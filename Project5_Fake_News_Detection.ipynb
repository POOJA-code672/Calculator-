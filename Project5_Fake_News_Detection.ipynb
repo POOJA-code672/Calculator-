{
  "nbformat": 4,
  "nbformat_minor": 0,
  "metadata": {
    "colab": {
      "provenance": [],
      "authorship_tag": "ABX9TyNiuK95BVtxHRZB4/cb9NUC",
      "include_colab_link": true
    },
    "kernelspec": {
      "name": "python3",
      "display_name": "Python 3"
    },
    "language_info": {
      "name": "python"
    }
  },
  "cells": [
    {
      "cell_type": "markdown",
      "metadata": {
        "id": "view-in-github",
        "colab_type": "text"
      },
      "source": [
        "<a href=\"https://colab.research.google.com/github/POOJA-code672/Calculator-/blob/main/Project5_Fake_News_Detection.ipynb\" target=\"_parent\"><img src=\"https://colab.research.google.com/assets/colab-badge.svg\" alt=\"Open In Colab\"/></a>"
      ]
    },
    {
      "cell_type": "markdown",
      "source": [
        "Abut the dataset:\n",
        "\n",
        "1.id:unique id for a news aeticle\n",
        "\n",
        "2.title: the title of news article\n",
        "\n",
        "3.author: the author of the news artile\n",
        "\n",
        "\n",
        "4.text:the next the article could be incomplete\n",
        "\n",
        "5.label: a label that marks whether the news article fake or real"
      ],
      "metadata": {
        "id": "sdOOkpGV_qr8"
      }
    },
    {
      "cell_type": "markdown",
      "source": [
        "1: Fake News\n",
        "\n",
        "\n",
        "2: Real News"
      ],
      "metadata": {
        "id": "S7O8PdDhgoUn"
      }
    },
    {
      "cell_type": "markdown",
      "source": [
        "importing the dependancies"
      ],
      "metadata": {
        "id": "EVYg8obzg718"
      }
    },
    {
      "cell_type": "code",
      "source": [
        "import numpy as np\n",
        "import pandas as pd\n",
        "import re\n",
        "from nltk.corpus import stopwords\n",
        "from nltk.stem.porter import PorterStemmer\n",
        "from sklearn.feature_extraction.text import TfidfVectorizer\n",
        "from sklearn.model_selection import train_test_split\n",
        "from sklearn.linear_model import LogisticRegression\n",
        "from sklearn.metrics import accuracy_score"
      ],
      "metadata": {
        "id": "hs_QQX4kfIPG"
      },
      "execution_count": null,
      "outputs": []
    },
    {
      "cell_type": "code",
      "source": [
        "import nltk\n",
        "nltk.download('stopwords')\n"
      ],
      "metadata": {
        "colab": {
          "base_uri": "https://localhost:8080/"
        },
        "id": "XvEwweIrlyN4",
        "outputId": "f74b644e-e868-4feb-fde0-195e807d82cb"
      },
      "execution_count": null,
      "outputs": [
        {
          "output_type": "stream",
          "name": "stderr",
          "text": [
            "[nltk_data] Downloading package stopwords to /root/nltk_data...\n",
            "[nltk_data]   Package stopwords is already up-to-date!\n"
          ]
        },
        {
          "output_type": "execute_result",
          "data": {
            "text/plain": [
              "True"
            ]
          },
          "metadata": {},
          "execution_count": 4
        }
      ]
    },
    {
      "cell_type": "code",
      "source": [
        "import nltk\n",
        "from nltk.corpus import stopwords\n",
        "\n",
        "# Download stopwords if not already downloaded\n",
        "nltk.download('stopwords')\n",
        "\n",
        "# Now you can use it\n",
        "print(stopwords.words('english'))\n",
        "\n"
      ],
      "metadata": {
        "colab": {
          "base_uri": "https://localhost:8080/"
        },
        "id": "WiE1AYQ5nCbH",
        "outputId": "cbb7704b-221e-4c38-9e3e-ff0c573906e0"
      },
      "execution_count": null,
      "outputs": [
        {
          "output_type": "stream",
          "name": "stdout",
          "text": [
            "['a', 'about', 'above', 'after', 'again', 'against', 'ain', 'all', 'am', 'an', 'and', 'any', 'are', 'aren', \"aren't\", 'as', 'at', 'be', 'because', 'been', 'before', 'being', 'below', 'between', 'both', 'but', 'by', 'can', 'couldn', \"couldn't\", 'd', 'did', 'didn', \"didn't\", 'do', 'does', 'doesn', \"doesn't\", 'doing', 'don', \"don't\", 'down', 'during', 'each', 'few', 'for', 'from', 'further', 'had', 'hadn', \"hadn't\", 'has', 'hasn', \"hasn't\", 'have', 'haven', \"haven't\", 'having', 'he', \"he'd\", \"he'll\", 'her', 'here', 'hers', 'herself', \"he's\", 'him', 'himself', 'his', 'how', 'i', \"i'd\", 'if', \"i'll\", \"i'm\", 'in', 'into', 'is', 'isn', \"isn't\", 'it', \"it'd\", \"it'll\", \"it's\", 'its', 'itself', \"i've\", 'just', 'll', 'm', 'ma', 'me', 'mightn', \"mightn't\", 'more', 'most', 'mustn', \"mustn't\", 'my', 'myself', 'needn', \"needn't\", 'no', 'nor', 'not', 'now', 'o', 'of', 'off', 'on', 'once', 'only', 'or', 'other', 'our', 'ours', 'ourselves', 'out', 'over', 'own', 're', 's', 'same', 'shan', \"shan't\", 'she', \"she'd\", \"she'll\", \"she's\", 'should', 'shouldn', \"shouldn't\", \"should've\", 'so', 'some', 'such', 't', 'than', 'that', \"that'll\", 'the', 'their', 'theirs', 'them', 'themselves', 'then', 'there', 'these', 'they', \"they'd\", \"they'll\", \"they're\", \"they've\", 'this', 'those', 'through', 'to', 'too', 'under', 'until', 'up', 've', 'very', 'was', 'wasn', \"wasn't\", 'we', \"we'd\", \"we'll\", \"we're\", 'were', 'weren', \"weren't\", \"we've\", 'what', 'when', 'where', 'which', 'while', 'who', 'whom', 'why', 'will', 'with', 'won', \"won't\", 'wouldn', \"wouldn't\", 'y', 'you', \"you'd\", \"you'll\", 'your', \"you're\", 'yours', 'yourself', 'yourselves', \"you've\"]\n"
          ]
        },
        {
          "output_type": "stream",
          "name": "stderr",
          "text": [
            "[nltk_data] Downloading package stopwords to /root/nltk_data...\n",
            "[nltk_data]   Package stopwords is already up-to-date!\n"
          ]
        }
      ]
    },
    {
      "cell_type": "markdown",
      "source": [
        "Data Pre-Processing"
      ],
      "metadata": {
        "id": "ZHAtHhCXn2Yk"
      }
    },
    {
      "cell_type": "code",
      "source": [
        "# loading the dataset to a pandas dataframe\n",
        "import pandas as pd\n",
        "news_dataset =pd.read_csv('/content/archive (1).zip')"
      ],
      "metadata": {
        "id": "p6ZdRalsnEtf"
      },
      "execution_count": null,
      "outputs": []
    },
    {
      "cell_type": "code",
      "source": [
        "news_dataset.shape"
      ],
      "metadata": {
        "colab": {
          "base_uri": "https://localhost:8080/"
        },
        "id": "Bp7fnHAUokmV",
        "outputId": "252a9574-4a28-4031-bb08-82f4e271ac9a"
      },
      "execution_count": null,
      "outputs": [
        {
          "output_type": "execute_result",
          "data": {
            "text/plain": [
              "(6335, 4)"
            ]
          },
          "metadata": {},
          "execution_count": 9
        }
      ]
    },
    {
      "cell_type": "code",
      "source": [
        "# print the first 5 rows of the dataframe\n",
        "news_dataset.head()"
      ],
      "metadata": {
        "colab": {
          "base_uri": "https://localhost:8080/",
          "height": 327
        },
        "id": "OoXIiJqlorSP",
        "outputId": "73744649-4401-4d78-a42f-b6d78c60cd16"
      },
      "execution_count": null,
      "outputs": [
        {
          "output_type": "execute_result",
          "data": {
            "text/plain": [
              "   Unnamed: 0  ... label\n",
              "0        8476  ...  FAKE\n",
              "1       10294  ...  FAKE\n",
              "2        3608  ...  REAL\n",
              "3       10142  ...  FAKE\n",
              "4         875  ...  REAL\n",
              "\n",
              "[5 rows x 4 columns]"
            ],
            "text/html": [
              "\n",
              "  <div id=\"df-c181dcb9-f1eb-4673-ab72-9fde138414e3\" class=\"colab-df-container\">\n",
              "    <div>\n",
              "<style scoped>\n",
              "    .dataframe tbody tr th:only-of-type {\n",
              "        vertical-align: middle;\n",
              "    }\n",
              "\n",
              "    .dataframe tbody tr th {\n",
              "        vertical-align: top;\n",
              "    }\n",
              "\n",
              "    .dataframe thead th {\n",
              "        text-align: right;\n",
              "    }\n",
              "</style>\n",
              "<table border=\"1\" class=\"dataframe\">\n",
              "  <thead>\n",
              "    <tr style=\"text-align: right;\">\n",
              "      <th></th>\n",
              "      <th>Unnamed: 0</th>\n",
              "      <th>title</th>\n",
              "      <th>text</th>\n",
              "      <th>label</th>\n",
              "    </tr>\n",
              "  </thead>\n",
              "  <tbody>\n",
              "    <tr>\n",
              "      <th>0</th>\n",
              "      <td>8476</td>\n",
              "      <td>You Can Smell Hillary’s Fear</td>\n",
              "      <td>Daniel Greenfield, a Shillman Journalism Fello...</td>\n",
              "      <td>FAKE</td>\n",
              "    </tr>\n",
              "    <tr>\n",
              "      <th>1</th>\n",
              "      <td>10294</td>\n",
              "      <td>Watch The Exact Moment Paul Ryan Committed Pol...</td>\n",
              "      <td>Google Pinterest Digg Linkedin Reddit Stumbleu...</td>\n",
              "      <td>FAKE</td>\n",
              "    </tr>\n",
              "    <tr>\n",
              "      <th>2</th>\n",
              "      <td>3608</td>\n",
              "      <td>Kerry to go to Paris in gesture of sympathy</td>\n",
              "      <td>U.S. Secretary of State John F. Kerry said Mon...</td>\n",
              "      <td>REAL</td>\n",
              "    </tr>\n",
              "    <tr>\n",
              "      <th>3</th>\n",
              "      <td>10142</td>\n",
              "      <td>Bernie supporters on Twitter erupt in anger ag...</td>\n",
              "      <td>— Kaydee King (@KaydeeKing) November 9, 2016 T...</td>\n",
              "      <td>FAKE</td>\n",
              "    </tr>\n",
              "    <tr>\n",
              "      <th>4</th>\n",
              "      <td>875</td>\n",
              "      <td>The Battle of New York: Why This Primary Matters</td>\n",
              "      <td>It's primary day in New York and front-runners...</td>\n",
              "      <td>REAL</td>\n",
              "    </tr>\n",
              "  </tbody>\n",
              "</table>\n",
              "</div>\n",
              "    <div class=\"colab-df-buttons\">\n",
              "\n",
              "  <div class=\"colab-df-container\">\n",
              "    <button class=\"colab-df-convert\" onclick=\"convertToInteractive('df-c181dcb9-f1eb-4673-ab72-9fde138414e3')\"\n",
              "            title=\"Convert this dataframe to an interactive table.\"\n",
              "            style=\"display:none;\">\n",
              "\n",
              "  <svg xmlns=\"http://www.w3.org/2000/svg\" height=\"24px\" viewBox=\"0 -960 960 960\">\n",
              "    <path d=\"M120-120v-720h720v720H120Zm60-500h600v-160H180v160Zm220 220h160v-160H400v160Zm0 220h160v-160H400v160ZM180-400h160v-160H180v160Zm440 0h160v-160H620v160ZM180-180h160v-160H180v160Zm440 0h160v-160H620v160Z\"/>\n",
              "  </svg>\n",
              "    </button>\n",
              "\n",
              "  <style>\n",
              "    .colab-df-container {\n",
              "      display:flex;\n",
              "      gap: 12px;\n",
              "    }\n",
              "\n",
              "    .colab-df-convert {\n",
              "      background-color: #E8F0FE;\n",
              "      border: none;\n",
              "      border-radius: 50%;\n",
              "      cursor: pointer;\n",
              "      display: none;\n",
              "      fill: #1967D2;\n",
              "      height: 32px;\n",
              "      padding: 0 0 0 0;\n",
              "      width: 32px;\n",
              "    }\n",
              "\n",
              "    .colab-df-convert:hover {\n",
              "      background-color: #E2EBFA;\n",
              "      box-shadow: 0px 1px 2px rgba(60, 64, 67, 0.3), 0px 1px 3px 1px rgba(60, 64, 67, 0.15);\n",
              "      fill: #174EA6;\n",
              "    }\n",
              "\n",
              "    .colab-df-buttons div {\n",
              "      margin-bottom: 4px;\n",
              "    }\n",
              "\n",
              "    [theme=dark] .colab-df-convert {\n",
              "      background-color: #3B4455;\n",
              "      fill: #D2E3FC;\n",
              "    }\n",
              "\n",
              "    [theme=dark] .colab-df-convert:hover {\n",
              "      background-color: #434B5C;\n",
              "      box-shadow: 0px 1px 3px 1px rgba(0, 0, 0, 0.15);\n",
              "      filter: drop-shadow(0px 1px 2px rgba(0, 0, 0, 0.3));\n",
              "      fill: #FFFFFF;\n",
              "    }\n",
              "  </style>\n",
              "\n",
              "    <script>\n",
              "      const buttonEl =\n",
              "        document.querySelector('#df-c181dcb9-f1eb-4673-ab72-9fde138414e3 button.colab-df-convert');\n",
              "      buttonEl.style.display =\n",
              "        google.colab.kernel.accessAllowed ? 'block' : 'none';\n",
              "\n",
              "      async function convertToInteractive(key) {\n",
              "        const element = document.querySelector('#df-c181dcb9-f1eb-4673-ab72-9fde138414e3');\n",
              "        const dataTable =\n",
              "          await google.colab.kernel.invokeFunction('convertToInteractive',\n",
              "                                                    [key], {});\n",
              "        if (!dataTable) return;\n",
              "\n",
              "        const docLinkHtml = 'Like what you see? Visit the ' +\n",
              "          '<a target=\"_blank\" href=https://colab.research.google.com/notebooks/data_table.ipynb>data table notebook</a>'\n",
              "          + ' to learn more about interactive tables.';\n",
              "        element.innerHTML = '';\n",
              "        dataTable['output_type'] = 'display_data';\n",
              "        await google.colab.output.renderOutput(dataTable, element);\n",
              "        const docLink = document.createElement('div');\n",
              "        docLink.innerHTML = docLinkHtml;\n",
              "        element.appendChild(docLink);\n",
              "      }\n",
              "    </script>\n",
              "  </div>\n",
              "\n",
              "\n",
              "    <div id=\"df-11699279-5a00-4315-9b48-062f37bd7aed\">\n",
              "      <button class=\"colab-df-quickchart\" onclick=\"quickchart('df-11699279-5a00-4315-9b48-062f37bd7aed')\"\n",
              "                title=\"Suggest charts\"\n",
              "                style=\"display:none;\">\n",
              "\n",
              "<svg xmlns=\"http://www.w3.org/2000/svg\" height=\"24px\"viewBox=\"0 0 24 24\"\n",
              "     width=\"24px\">\n",
              "    <g>\n",
              "        <path d=\"M19 3H5c-1.1 0-2 .9-2 2v14c0 1.1.9 2 2 2h14c1.1 0 2-.9 2-2V5c0-1.1-.9-2-2-2zM9 17H7v-7h2v7zm4 0h-2V7h2v10zm4 0h-2v-4h2v4z\"/>\n",
              "    </g>\n",
              "</svg>\n",
              "      </button>\n",
              "\n",
              "<style>\n",
              "  .colab-df-quickchart {\n",
              "      --bg-color: #E8F0FE;\n",
              "      --fill-color: #1967D2;\n",
              "      --hover-bg-color: #E2EBFA;\n",
              "      --hover-fill-color: #174EA6;\n",
              "      --disabled-fill-color: #AAA;\n",
              "      --disabled-bg-color: #DDD;\n",
              "  }\n",
              "\n",
              "  [theme=dark] .colab-df-quickchart {\n",
              "      --bg-color: #3B4455;\n",
              "      --fill-color: #D2E3FC;\n",
              "      --hover-bg-color: #434B5C;\n",
              "      --hover-fill-color: #FFFFFF;\n",
              "      --disabled-bg-color: #3B4455;\n",
              "      --disabled-fill-color: #666;\n",
              "  }\n",
              "\n",
              "  .colab-df-quickchart {\n",
              "    background-color: var(--bg-color);\n",
              "    border: none;\n",
              "    border-radius: 50%;\n",
              "    cursor: pointer;\n",
              "    display: none;\n",
              "    fill: var(--fill-color);\n",
              "    height: 32px;\n",
              "    padding: 0;\n",
              "    width: 32px;\n",
              "  }\n",
              "\n",
              "  .colab-df-quickchart:hover {\n",
              "    background-color: var(--hover-bg-color);\n",
              "    box-shadow: 0 1px 2px rgba(60, 64, 67, 0.3), 0 1px 3px 1px rgba(60, 64, 67, 0.15);\n",
              "    fill: var(--button-hover-fill-color);\n",
              "  }\n",
              "\n",
              "  .colab-df-quickchart-complete:disabled,\n",
              "  .colab-df-quickchart-complete:disabled:hover {\n",
              "    background-color: var(--disabled-bg-color);\n",
              "    fill: var(--disabled-fill-color);\n",
              "    box-shadow: none;\n",
              "  }\n",
              "\n",
              "  .colab-df-spinner {\n",
              "    border: 2px solid var(--fill-color);\n",
              "    border-color: transparent;\n",
              "    border-bottom-color: var(--fill-color);\n",
              "    animation:\n",
              "      spin 1s steps(1) infinite;\n",
              "  }\n",
              "\n",
              "  @keyframes spin {\n",
              "    0% {\n",
              "      border-color: transparent;\n",
              "      border-bottom-color: var(--fill-color);\n",
              "      border-left-color: var(--fill-color);\n",
              "    }\n",
              "    20% {\n",
              "      border-color: transparent;\n",
              "      border-left-color: var(--fill-color);\n",
              "      border-top-color: var(--fill-color);\n",
              "    }\n",
              "    30% {\n",
              "      border-color: transparent;\n",
              "      border-left-color: var(--fill-color);\n",
              "      border-top-color: var(--fill-color);\n",
              "      border-right-color: var(--fill-color);\n",
              "    }\n",
              "    40% {\n",
              "      border-color: transparent;\n",
              "      border-right-color: var(--fill-color);\n",
              "      border-top-color: var(--fill-color);\n",
              "    }\n",
              "    60% {\n",
              "      border-color: transparent;\n",
              "      border-right-color: var(--fill-color);\n",
              "    }\n",
              "    80% {\n",
              "      border-color: transparent;\n",
              "      border-right-color: var(--fill-color);\n",
              "      border-bottom-color: var(--fill-color);\n",
              "    }\n",
              "    90% {\n",
              "      border-color: transparent;\n",
              "      border-bottom-color: var(--fill-color);\n",
              "    }\n",
              "  }\n",
              "</style>\n",
              "\n",
              "      <script>\n",
              "        async function quickchart(key) {\n",
              "          const quickchartButtonEl =\n",
              "            document.querySelector('#' + key + ' button');\n",
              "          quickchartButtonEl.disabled = true;  // To prevent multiple clicks.\n",
              "          quickchartButtonEl.classList.add('colab-df-spinner');\n",
              "          try {\n",
              "            const charts = await google.colab.kernel.invokeFunction(\n",
              "                'suggestCharts', [key], {});\n",
              "          } catch (error) {\n",
              "            console.error('Error during call to suggestCharts:', error);\n",
              "          }\n",
              "          quickchartButtonEl.classList.remove('colab-df-spinner');\n",
              "          quickchartButtonEl.classList.add('colab-df-quickchart-complete');\n",
              "        }\n",
              "        (() => {\n",
              "          let quickchartButtonEl =\n",
              "            document.querySelector('#df-11699279-5a00-4315-9b48-062f37bd7aed button');\n",
              "          quickchartButtonEl.style.display =\n",
              "            google.colab.kernel.accessAllowed ? 'block' : 'none';\n",
              "        })();\n",
              "      </script>\n",
              "    </div>\n",
              "\n",
              "    </div>\n",
              "  </div>\n"
            ],
            "application/vnd.google.colaboratory.intrinsic+json": {
              "type": "dataframe",
              "variable_name": "news_dataset",
              "summary": "{\n  \"name\": \"news_dataset\",\n  \"rows\": 6335,\n  \"fields\": [\n    {\n      \"column\": \"Unnamed: 0\",\n      \"properties\": {\n        \"dtype\": \"number\",\n        \"std\": 3038,\n        \"min\": 2,\n        \"max\": 10557,\n        \"num_unique_values\": 6335,\n        \"samples\": [\n          9957,\n          7596,\n          8905\n        ],\n        \"semantic_type\": \"\",\n        \"description\": \"\"\n      }\n    },\n    {\n      \"column\": \"title\",\n      \"properties\": {\n        \"dtype\": \"string\",\n        \"num_unique_values\": 6256,\n        \"samples\": [\n          \"Elizabeth Warren's speech attacking Donald Trump made a bigger argument about Republicans\",\n          \"Assange: Clinton And ISIS Are Funded By Same People, \\u201cTrump Not Permitted To Win\\u201d\",\n          \"Reporters Stunned to Learn Trump Fans Lining Up 12 Hours Before Rally Starts\"\n        ],\n        \"semantic_type\": \"\",\n        \"description\": \"\"\n      }\n    },\n    {\n      \"column\": \"text\",\n      \"properties\": {\n        \"dtype\": \"string\",\n        \"num_unique_values\": 6060,\n        \"samples\": [\n          \"Republicans taking control of Congress this coming week will try to overcome their reputation as a divided party hobbled by infighting by working to reshape policy in ways that Americans will feel in corporate boardrooms, on factory floors and at the gas pump.\\n\\nIncoming committee chairmen are preparing fresh oversight of federal agencies while rank-and-file members will be encouraged to use a new budget plan and government spending bills to chip away at President Obama\\u2019s environmental regulations, health-care reform and outreach to Cuba and Iran.\\n\\nAfter years of sparring with the White House, Republicans are eager to demonstrate productivity and some level of bipartisan \\u00adcooperation with Obama and the Democrats. Public disgust with Washington gridlock remains high, and with the 2016 presidential campaign beginning in earnest, broader voter interest \\u2014 especially among independents and Democrats \\u2014 could put recent GOP gains at risk in less than two years.\\n\\n\\u201cOn the things where we agree, the goal will be to make a law, not just put something on [Obama\\u2019s] desk,\\u201d incoming Senate Majority Leader Mitch McConnell (R-Ky.) said in an interview, adding later: \\u201cI want to make it clear: Desire for a signature is not going to dictate everything that we do.\\u201d\\n\\nSecuring final passage of bills will require McConnell and House Speaker John A. Boehner (R-Ohio) to compromise with Democrats while holding together their own ranks, which have clashed repeatedly over issues such as spending and immigration. Many GOP leaders hope that their differences can be set aside in favor of legislative wins.\\n\\nThe House and Senate formally reconvene Tuesday. New members will be sworn in and top leaders and committee chairmen formally installed on a day steeped in tradition and ceremony.\\n\\nBoehner and McConnell will be backed by larger GOP majorities: 246 Republicans in the House \\u2014 the party\\u2019s largest majority since just after World War II \\u2014 and 54 GOP senators, an impressive gain but short of the 60 votes required to overcome most procedural hurdles that Democrats will have at their disposal.\\n\\nIn the Senate, the rebranding effort will begin with energy policy.\\n\\nMcConnell plans to start his tenure as Senate majority leader with a \\u201cfull-throated\\u201d debate on national energy policy, ranging from a new oil pipeline to additional oil exploration. He has also promised consideration of liberal alternatives.\\n\\nMcConnell wants to use the controversial proposal to authorize construction of the Keystone XL pipeline as the gen\\u00adesis for a free-wheeling Senate debate about the United States\\u2019 energy future, in which both sides will have the opportunity to offer and debate more expansive energy issues than the narrow pipeline proposal.\\n\\n\\u201cWe can treat this like a serious and significant energy debate,\\u201d McConnell said in an interview before Christmas in his Capitol office.\\n\\nObama has resisted GOP efforts to authorize the pipeline, but dozens of moderate congressional Democrats support the bill and a broader energy debate.\\n\\nOther Democrats are skeptical of McConnell\\u2019s plans.\\n\\n\\u201cThe $64,000 question as to whether the Congress can get anything done is which way the Republican leadership goes,\\u201d Sen. Charles E. Schumer (D-N.Y.) said in an interview Saturday. \\u201cIf they let the tea party pull them to the right into the path of negativity and obstruction, we\\u2019ll get nothing done.\\u201d\\n\\nSen. John Hoeven (R-N.D.), a lead author of the Keystone bill, said that Republicans plan to consider proposals allowing the export of liquefied natural gas; to give state governments greater power to oversee hydraulic fracturing; and to restrict the federal government\\u2019s role in the construction of cross-border gas pipelines.\\n\\n\\u201cI don\\u2019t think we have an energy bill that doesn\\u2019t have a Democratic co-sponsor on it,\\u201d he said. \\u201cBecause at the end of the day you\\u2019ve got to get at least 60 votes\\u201d to clear procedural hurdles.\\n\\nThe open process is part of McConnell\\u2019s effort to live up to his pledge to restore the Senate\\u2019s grand tradition of free and full debate, while also advancing conservative causes. A skilled practitioner in the use of the Senate\\u2019s arcane procedural rules to move or block legislation, McConnell has pledged to use those rules to score conservative wins. He has been coaching GOP senators that their most likely path to wins will come on the annual spending bills for the federal government \\u2014 which Republicans have routinely opposed on the grounds that they spend too much taxpayer money.\\n\\nOther party leaders echo those sentiments. \\u201cI think a majority [of Republicans] recognize that we have to govern responsibly,\\u201d said Sen. John McCain (R-Ariz.), who will become chairman of the Armed Services Committee. \\u201cWe have to show that we can be a productive party, and that, I think, will have a direct effect on whether we\\u2019re able to elect a Republican as president in 2016.\\u201d\\n\\nBut now, with control of the House and Senate, Republicans have more leeway to attach policy riders to spending bills that will restrict federal agencies in their oversight of environmental, labor and other regulations. These still may draw presidential vetoes, but McConnell believes that Republicans will have leverage to get some restrictions included, just as the mammoth spending measure approved last month included language sought by Wall Street firms making risky trades.\\n\\nIn the House, most of the early weeks will seem like a do-over of the past two years \\u2014 except that many of the bills passed will get swifter Senate consideration.\\n\\nUp first is a veterans employment bill that passed last year with bipartisan support, according to senior leadership aides. There is also a bill to loosen work requirements set by the Affordable Care Act and a similar bill to authorize the Keystone pipeline.\\n\\nThe second week of January will be devoted to a new spending plan for the Department of Homeland Security. The spending bill funds DHS only until the end of February, a move designed to give Republicans more time to craft a legislative response to Obama\\u2019s decision to change immigration policy through executive actions. But no specific proposals have emerged, the aides said.\\n\\nThen there are the investigations into alleged wrongdoing at agencies including the Internal Revenue Service, the Justice Department and the Environmental Protection Agency.\\n\\n\\u201cThere are issues that haven\\u2019t been resolved,\\u201d said Rep. Jason Chaffetz (R-Utah), the new chairman of the House Oversight and Government Reform Committee.\\n\\nHe is launching subcommittees to closely track Obama\\u2019s energy and environmental policies and created \\u201cadministrative rules,\\u201d a panel that will \\u201ctry to figure out what the administration is doing next with its rule-making authority. We\\u2019re going to jump on those as fast as we possibly can,\\u201d he said.\\n\\nBefore the work begins, Boehner is expected to face another leadership challenge. After he survived a close call two years ago, conservative blogs and radio shows are actively supporting another effort to unseat him.\\n\\nPresuming that the 434 currently seated House members show up to vote Tuesday and that all Democrats vote against him, at least 28 of the 246 Republicans also would need to vote against Boehner to deny him the gavel. (The 435th House seat is held by Rep. Michael G. Grimm (R-N.Y.), who plans to resign Monday after recently pleading guilty to tax evasion charges.)\\n\\nRep. Walter B. Jones (R-N.C.), who opposed Boehner two years ago, said in a recent radio interview that he\\u2019ll do it again, adding that at least 16 to 18 Republican members might vote against the speaker. Among them is Rep. Jim Bridenstine (R-Okla.), who said Friday that he will vote against the speaker because the spending bill passed last month didn\\u2019t fully strip DHS of its funding.\\n\\nRep. Tom Cole (R-Okla.), a Boehner ally, said in an interview that \\u201cI expect a few scattered \\u2018no\\u2019 votes. But because Boehner has been strengthened by the gains in the election, the speaker election should mostly be an uneventful coronation.\\u201d\\n\\nThe opening weeks of the new Congress are also expected to include the confirmation of Ashton Carter, Obama\\u2019s pick to lead the Pentagon, and Loretta Lynch to be the next attorney general. Concerns with Iran are also expected to be an early focus. The Obama administration persuaded Senate Democrats last year to hold off debating a bipartisan proposal authorizing stronger sanctions against the Iranian regime.\\n\\nBut Sen. Bob Corker (R-Tenn.), the incoming chairman of the Foreign Relations Committee, said, \\u201cMy guess is fairly early on in some form or fashion the Senate\\u2019s going to want to weigh in on Iran.\\u201d\\n\\nCorker also plans to launch \\u201ca rigorous hearing process\\u201d on Obama\\u2019s decision to restore diplomatic relations with Cuba. Republicans have threatened to block funding for a new embassy in Havana and confirmation of a new ambassador to Cuba. But Obama could veto spending bills that include such restrictions, sparking a showdown over whether the GOP is willing to shutter parts of the government over a new Cuba policy.\\n\\nIn 2016, Republicans will be defending at least 24 Senate seats and about a dozen first-term House members from swing districts around the country. Party leaders have a political imperative to govern and avoid short-term fights with Obama.\\n\\n\\u201cWe will see if there is an opportunity for a fourth quarter for President Obama that actually moves the country in the direction we\\u2019d like to go,\\u201d said Sen. Roger Wicker (R-Miss.), who also will be responsible for helping reelect GOP senators in 2016.\\n\\n\\u201cReagan did it a generation ago working with Democrats. Clinton did it almost two decades ago with welfare reform and deficit reduction,\\u201d he said. \\u201cSo it can be done \\u2014 if the president is disposed to move in that direction.\\u201d\",\n          \"Reps. Kevin McCarthy, R-California, Jason Chaffetz, R-Utah, and Daniel Webster, R-Florida, are the three candidates vying for the post, and the winner becomes the favorite to become second in line to succeed the President of the United States.\\n\\nBut Thursday's vote inside the House GOP conference is just the first step. The candidate who gets the Republican party's internal nod still has to be approved by the full House of Representatives on October 29. And that's where things can get tricky.\\n\\nIf the Republican nominee can't garner 218 votes on the House floor, then Boehner will remain the speaker. And the potential for multiple rounds of votes on the House floor could open up the election to other candidates beyond the three that are in the race now. It would also prolong the deeply divisive and public process for House Republicans, who are hoping to chart a new path forward and prove they can make the dysfunctional Capitol work.\\n\\nThe three candidates will make their pitch to GOP colleagues at a \\\"candidate forum\\\" on Thursday morning in a conference room in the basement of the Capitol. Each gets three minutes to make a speech before answering questions from members. At noon, the 247 members of the House Republican conference gather in the ornate Ways and Means Committee room to vote. Under the House GOP conference rules, the three candidates are not allowed to make their own speeches. Instead each can designate one supporter to make a three-minute address nominating them for the post. Then up to two additional supporters can speak for another minute each on the candidate's behalf. To win the GOP nomination, a candidate needs a simple majority of all House Republicans -- or 125 votes. (That number could change if any House Republicans are absent or opts not to vote in the election.) Boehner plans to vote for McCarthy before heading to New York to tape an appearance on \\\"The Tonight Show,\\\" according to a spokesman. The delegate from American Samoa, Amata Radewagen, who doesn't get a vote on the House floor, does get to cast a vote for speaker inside the conference meeting. RELATED: John Boehner to appear on 'The Tonight Show' Three members serve as \\\"tally clerks\\\" and collect the ballots and count how many votes each candidate receives. Once all the ballots are counted, a representative of the conference will announce the results, along with the vote totals. If no candidate gets a majority of the conference on the first vote, a second ballot circulates with the names of the top two vote-getters, and a winner is announced after those ballots are counted. The new speaker can't take the gavel from Boehner until the full House of Representatives votes. Unlike the private contest on Thursday, the floor vote is covered live by C-SPAN's television cameras inside the House chamber. Each member of Congress is called on in alphabetical order to stand and announce their choice for speaker. The winner must win the votes of a majority -- 218, if everyone in the House is present -- in order to win. The vast majority of House Democrats are expected for to vote for former Speaker and current Minority Leader Nancy Pelosi. House Republican conference rules require that GOP members support their party's nominee on the floor, but many conservatives have ignored that rule in recent elections. That's where any drama will occur. If the GOP nominee fails to get a majority, the contest on the House floor could go to multiple ballots. Boehner will remain the speaker until a majority of the House votes to elect a new candidate. The last time it took more than one ballot to elect a speaker was in 1923 when it took nine ballots over the course of three days. And you don't need to be in the House to get the job. The Constitution does not require that the speaker be someone currently serving in Congress, but all who have been elected to the post have been House members. Former Secretary of State Colin Powell, Sen. Rand Paul and Sen. Jeff Sessions received votes in the January 2015 election . And two years earlier, David Walker, the former head of the General Accounting Office, received one vote\",\n          \"Over the last six years, the Obama administration has been trying to address global warming\\u00a0with a flurry of rules aimed at reducing US carbon-dioxide emissions. First there were stricter fuel-economy standards for cars and trucks. More recently, the EPA\\u00a0proposed sweeping carbon regulations for coal-fired power plants (known as the \\\"Clean Power Plan\\\").\\n\\nThe overarching goal was to cut US greenhouse-gas emissions 17 percent below 2005 levels by 2020. That, the administration believed, would help advance global climate talks.\\n\\nBut all of Obama's moves so far\\u00a0have been insufficient to get to that 17 percent cut by 2020. As recent analyses from the Rhodium Group and the Clean Air Task Force\\u00a0have argued, the US also needs to reduce methane emissions dramatically to get there:\\n\\nCarbon-dioxide is the biggest greenhouse gas responsible for global warming. But it's not the only one. There's also\\u00a0methane.\\u00a0The US burns a lot of methane \\u2014 known as \\\"natural gas\\\" \\u2014 for energy. But when methane leaks out of oil and gas wells or pipelines and into the atmosphere, it acts as a potent greenhouse gas. (The White House says it's 25 times as effective at trapping heat as carbon dioxide. Other scientists say 34 times.)\\n\\nIn 2012, the EPA estimated that methane accounted for roughly\\u00a08.7 percent of US greenhouse-gas emissions (though this may be an\\u00a0underestimate). But experts have warned that methane leaks could be poised to grow in the coming years.\\n\\nThanks to the\\u00a0fracking boom, US energy companies have been extracting more and more natural gas from shale formations. On one level, that's good news for climate change: utilities are now burning more natural gas for electricity instead of coal, which means lower carbon-dioxide emissions from power plants.\\n\\nThe problem is that all this new drilling increases the risk of methane leaking into the air \\u2014 and those leaks\\u00a0are undermining the climate benefits of the gas boom.\\n\\nIn theory, it should be doable to plug these methane emissions,\\u00a0which can come from leaky pipelines or faulty drilling operations. Many companies already\\u00a0use infrared cameras to detect leaks and plug them. And they have financial incentives to do so \\u2014 after all, these companies would rather capture that methane and sell it for money than just have it float off into the air.\\n\\nMany oil and gas companies are already taking steps to detect and plug leaks\\n\\nStill, the White House wants to make sure these leaks really get plugged. So, on Wednesday, it\\u00a0announced a goal of cutting methane emissions from oil and gas operations 45 percent below 2012 levels by 2025.\\n\\nThis would be done through a combination of guidelines for voluntary actions by the industry and a hodgepodge of new regulations\\u00a0crafted by the EPA and other agencies. Some rules would focus on methane leaks from new oil and gas wells. Others would focus on pipelines used to transport the natural gas. The Interior Department is updating standards for drilling on public lands.\\n\\nThe White House noted that the oil and gas industry has already managed to cut methane emissions 16 percent since 1990 through voluntary measures. \\\"Nevertheless,\\\" it added, \\\"emissions from the oil and gas sector are projected to rise more than 25 percent by 2025 without additional steps to lower them.\\\"\\n\\nSome environmental groups said the White House's plan didn't go far enough. For example, the EPA is currently only working on rules to reduce emissions at new oil and gas wells \\u2014 and only much later will they work on rules for\\u00a0existing wells, which are by far the biggest source of emissions.\\n\\n\\\"While setting methane standards for the first time is an important step, failing to immediately regulate existing oil and gas equipment nationwide misses 90% of the methane pollution from the industry,\\\" Conrad Schneider of the Clean Air Task Force said in a statement.\\n\\nJayni Hein, policy director at the Institute for Policy Integrity at NYU School of Law, agreed: \\\"EPA's steps announced today would trim the sector's methane releases by about a third. We can and should go farther by regulating existing oil and natural gas sources.\\\"\\n\\nBy contrast, many oil and gas companies don't want new regulations at all \\u2014 they argue that the industry is already curbing methane leaks as is.\\u00a0\\\"Emissions will continue to fall as operators innovate and find new ways to capture and deliver more methane to consumers,\\\" said Jack Gerard, head of the American Petroleum Institute, in a statement. \\\"Existing EPA and state regulations are working. Another layer of burdensome requirements could actually slow down industry progress to reduce methane emissions.\\\"\\n\\nMeanwhile, it's worth noting that there are other sources of methane besides oil and gas. In 2012,\\u00a0according to the EPA, roughly 30 percent of methane in the United States came from natural-gas and petroleum operations (though, again, that may be an undercount).\\n\\nObama is relying on voluntary measures for methane in agriculture\\n\\n-- By contrast,\\u00a036 percent of US.methane emissions came from agriculture. The beef and dairy industry is a major contributor here: when cows belch, they produce methane (known as \\\"enteric fermentation\\\"). Other sources include decomposing cow manure, as well as methane from rice cultivation.\\n\\n-- Another\\u00a018 percent came from landfills. When food and other trash decays in a landfill, the organisms that feed on that trash emit methane into the atmosphere.\\n\\nThe Obama administration\\u00a0has been working on steps to cut methane in these areas, too. Back in March, the EPA announced it would come up with standards to reduce methane from all future landfills. It will then solicit public comments on whether to regulate landfills that have already been built.\\n\\nAs for cow burps, however, the administration is relying on purely voluntary measures for now. In June 2014, the EPA unveiled a \\\"partnership\\\" with the dairy industry to speed up the adoption of methane digesters that turn cow dung into energy. The hope is to reduce methane emissions from the dairy sector 25 percent by 2020.\\n\\nFurther reading: Obama has promised to cut US emissions 17% by 2020. Is that still possible?\"\n        ],\n        \"semantic_type\": \"\",\n        \"description\": \"\"\n      }\n    },\n    {\n      \"column\": \"label\",\n      \"properties\": {\n        \"dtype\": \"category\",\n        \"num_unique_values\": 2,\n        \"samples\": [\n          \"REAL\",\n          \"FAKE\"\n        ],\n        \"semantic_type\": \"\",\n        \"description\": \"\"\n      }\n    }\n  ]\n}"
            }
          },
          "metadata": {},
          "execution_count": 10
        }
      ]
    },
    {
      "cell_type": "code",
      "source": [
        "news_dataset.tail()"
      ],
      "metadata": {
        "colab": {
          "base_uri": "https://localhost:8080/",
          "height": 327
        },
        "id": "yKzm5IcYo6qz",
        "outputId": "e5b97f84-7650-468d-88eb-0c4af57a9738"
      },
      "execution_count": null,
      "outputs": [
        {
          "output_type": "execute_result",
          "data": {
            "text/plain": [
              "      Unnamed: 0  ... label\n",
              "6330        4490  ...  REAL\n",
              "6331        8062  ...  FAKE\n",
              "6332        8622  ...  FAKE\n",
              "6333        4021  ...  REAL\n",
              "6334        4330  ...  REAL\n",
              "\n",
              "[5 rows x 4 columns]"
            ],
            "text/html": [
              "\n",
              "  <div id=\"df-32a7c7a3-c4bb-4517-bedc-47d9d72fb2f1\" class=\"colab-df-container\">\n",
              "    <div>\n",
              "<style scoped>\n",
              "    .dataframe tbody tr th:only-of-type {\n",
              "        vertical-align: middle;\n",
              "    }\n",
              "\n",
              "    .dataframe tbody tr th {\n",
              "        vertical-align: top;\n",
              "    }\n",
              "\n",
              "    .dataframe thead th {\n",
              "        text-align: right;\n",
              "    }\n",
              "</style>\n",
              "<table border=\"1\" class=\"dataframe\">\n",
              "  <thead>\n",
              "    <tr style=\"text-align: right;\">\n",
              "      <th></th>\n",
              "      <th>Unnamed: 0</th>\n",
              "      <th>title</th>\n",
              "      <th>text</th>\n",
              "      <th>label</th>\n",
              "    </tr>\n",
              "  </thead>\n",
              "  <tbody>\n",
              "    <tr>\n",
              "      <th>6330</th>\n",
              "      <td>4490</td>\n",
              "      <td>State Department says it can't find emails fro...</td>\n",
              "      <td>The State Department told the Republican Natio...</td>\n",
              "      <td>REAL</td>\n",
              "    </tr>\n",
              "    <tr>\n",
              "      <th>6331</th>\n",
              "      <td>8062</td>\n",
              "      <td>The ‘P’ in PBS Should Stand for ‘Plutocratic’ ...</td>\n",
              "      <td>The ‘P’ in PBS Should Stand for ‘Plutocratic’ ...</td>\n",
              "      <td>FAKE</td>\n",
              "    </tr>\n",
              "    <tr>\n",
              "      <th>6332</th>\n",
              "      <td>8622</td>\n",
              "      <td>Anti-Trump Protesters Are Tools of the Oligarc...</td>\n",
              "      <td>Anti-Trump Protesters Are Tools of the Oligar...</td>\n",
              "      <td>FAKE</td>\n",
              "    </tr>\n",
              "    <tr>\n",
              "      <th>6333</th>\n",
              "      <td>4021</td>\n",
              "      <td>In Ethiopia, Obama seeks progress on peace, se...</td>\n",
              "      <td>ADDIS ABABA, Ethiopia —President Obama convene...</td>\n",
              "      <td>REAL</td>\n",
              "    </tr>\n",
              "    <tr>\n",
              "      <th>6334</th>\n",
              "      <td>4330</td>\n",
              "      <td>Jeb Bush Is Suddenly Attacking Trump. Here's W...</td>\n",
              "      <td>Jeb Bush Is Suddenly Attacking Trump. Here's W...</td>\n",
              "      <td>REAL</td>\n",
              "    </tr>\n",
              "  </tbody>\n",
              "</table>\n",
              "</div>\n",
              "    <div class=\"colab-df-buttons\">\n",
              "\n",
              "  <div class=\"colab-df-container\">\n",
              "    <button class=\"colab-df-convert\" onclick=\"convertToInteractive('df-32a7c7a3-c4bb-4517-bedc-47d9d72fb2f1')\"\n",
              "            title=\"Convert this dataframe to an interactive table.\"\n",
              "            style=\"display:none;\">\n",
              "\n",
              "  <svg xmlns=\"http://www.w3.org/2000/svg\" height=\"24px\" viewBox=\"0 -960 960 960\">\n",
              "    <path d=\"M120-120v-720h720v720H120Zm60-500h600v-160H180v160Zm220 220h160v-160H400v160Zm0 220h160v-160H400v160ZM180-400h160v-160H180v160Zm440 0h160v-160H620v160ZM180-180h160v-160H180v160Zm440 0h160v-160H620v160Z\"/>\n",
              "  </svg>\n",
              "    </button>\n",
              "\n",
              "  <style>\n",
              "    .colab-df-container {\n",
              "      display:flex;\n",
              "      gap: 12px;\n",
              "    }\n",
              "\n",
              "    .colab-df-convert {\n",
              "      background-color: #E8F0FE;\n",
              "      border: none;\n",
              "      border-radius: 50%;\n",
              "      cursor: pointer;\n",
              "      display: none;\n",
              "      fill: #1967D2;\n",
              "      height: 32px;\n",
              "      padding: 0 0 0 0;\n",
              "      width: 32px;\n",
              "    }\n",
              "\n",
              "    .colab-df-convert:hover {\n",
              "      background-color: #E2EBFA;\n",
              "      box-shadow: 0px 1px 2px rgba(60, 64, 67, 0.3), 0px 1px 3px 1px rgba(60, 64, 67, 0.15);\n",
              "      fill: #174EA6;\n",
              "    }\n",
              "\n",
              "    .colab-df-buttons div {\n",
              "      margin-bottom: 4px;\n",
              "    }\n",
              "\n",
              "    [theme=dark] .colab-df-convert {\n",
              "      background-color: #3B4455;\n",
              "      fill: #D2E3FC;\n",
              "    }\n",
              "\n",
              "    [theme=dark] .colab-df-convert:hover {\n",
              "      background-color: #434B5C;\n",
              "      box-shadow: 0px 1px 3px 1px rgba(0, 0, 0, 0.15);\n",
              "      filter: drop-shadow(0px 1px 2px rgba(0, 0, 0, 0.3));\n",
              "      fill: #FFFFFF;\n",
              "    }\n",
              "  </style>\n",
              "\n",
              "    <script>\n",
              "      const buttonEl =\n",
              "        document.querySelector('#df-32a7c7a3-c4bb-4517-bedc-47d9d72fb2f1 button.colab-df-convert');\n",
              "      buttonEl.style.display =\n",
              "        google.colab.kernel.accessAllowed ? 'block' : 'none';\n",
              "\n",
              "      async function convertToInteractive(key) {\n",
              "        const element = document.querySelector('#df-32a7c7a3-c4bb-4517-bedc-47d9d72fb2f1');\n",
              "        const dataTable =\n",
              "          await google.colab.kernel.invokeFunction('convertToInteractive',\n",
              "                                                    [key], {});\n",
              "        if (!dataTable) return;\n",
              "\n",
              "        const docLinkHtml = 'Like what you see? Visit the ' +\n",
              "          '<a target=\"_blank\" href=https://colab.research.google.com/notebooks/data_table.ipynb>data table notebook</a>'\n",
              "          + ' to learn more about interactive tables.';\n",
              "        element.innerHTML = '';\n",
              "        dataTable['output_type'] = 'display_data';\n",
              "        await google.colab.output.renderOutput(dataTable, element);\n",
              "        const docLink = document.createElement('div');\n",
              "        docLink.innerHTML = docLinkHtml;\n",
              "        element.appendChild(docLink);\n",
              "      }\n",
              "    </script>\n",
              "  </div>\n",
              "\n",
              "\n",
              "    <div id=\"df-cff34294-28a9-45eb-87a6-b21d9dd7a14d\">\n",
              "      <button class=\"colab-df-quickchart\" onclick=\"quickchart('df-cff34294-28a9-45eb-87a6-b21d9dd7a14d')\"\n",
              "                title=\"Suggest charts\"\n",
              "                style=\"display:none;\">\n",
              "\n",
              "<svg xmlns=\"http://www.w3.org/2000/svg\" height=\"24px\"viewBox=\"0 0 24 24\"\n",
              "     width=\"24px\">\n",
              "    <g>\n",
              "        <path d=\"M19 3H5c-1.1 0-2 .9-2 2v14c0 1.1.9 2 2 2h14c1.1 0 2-.9 2-2V5c0-1.1-.9-2-2-2zM9 17H7v-7h2v7zm4 0h-2V7h2v10zm4 0h-2v-4h2v4z\"/>\n",
              "    </g>\n",
              "</svg>\n",
              "      </button>\n",
              "\n",
              "<style>\n",
              "  .colab-df-quickchart {\n",
              "      --bg-color: #E8F0FE;\n",
              "      --fill-color: #1967D2;\n",
              "      --hover-bg-color: #E2EBFA;\n",
              "      --hover-fill-color: #174EA6;\n",
              "      --disabled-fill-color: #AAA;\n",
              "      --disabled-bg-color: #DDD;\n",
              "  }\n",
              "\n",
              "  [theme=dark] .colab-df-quickchart {\n",
              "      --bg-color: #3B4455;\n",
              "      --fill-color: #D2E3FC;\n",
              "      --hover-bg-color: #434B5C;\n",
              "      --hover-fill-color: #FFFFFF;\n",
              "      --disabled-bg-color: #3B4455;\n",
              "      --disabled-fill-color: #666;\n",
              "  }\n",
              "\n",
              "  .colab-df-quickchart {\n",
              "    background-color: var(--bg-color);\n",
              "    border: none;\n",
              "    border-radius: 50%;\n",
              "    cursor: pointer;\n",
              "    display: none;\n",
              "    fill: var(--fill-color);\n",
              "    height: 32px;\n",
              "    padding: 0;\n",
              "    width: 32px;\n",
              "  }\n",
              "\n",
              "  .colab-df-quickchart:hover {\n",
              "    background-color: var(--hover-bg-color);\n",
              "    box-shadow: 0 1px 2px rgba(60, 64, 67, 0.3), 0 1px 3px 1px rgba(60, 64, 67, 0.15);\n",
              "    fill: var(--button-hover-fill-color);\n",
              "  }\n",
              "\n",
              "  .colab-df-quickchart-complete:disabled,\n",
              "  .colab-df-quickchart-complete:disabled:hover {\n",
              "    background-color: var(--disabled-bg-color);\n",
              "    fill: var(--disabled-fill-color);\n",
              "    box-shadow: none;\n",
              "  }\n",
              "\n",
              "  .colab-df-spinner {\n",
              "    border: 2px solid var(--fill-color);\n",
              "    border-color: transparent;\n",
              "    border-bottom-color: var(--fill-color);\n",
              "    animation:\n",
              "      spin 1s steps(1) infinite;\n",
              "  }\n",
              "\n",
              "  @keyframes spin {\n",
              "    0% {\n",
              "      border-color: transparent;\n",
              "      border-bottom-color: var(--fill-color);\n",
              "      border-left-color: var(--fill-color);\n",
              "    }\n",
              "    20% {\n",
              "      border-color: transparent;\n",
              "      border-left-color: var(--fill-color);\n",
              "      border-top-color: var(--fill-color);\n",
              "    }\n",
              "    30% {\n",
              "      border-color: transparent;\n",
              "      border-left-color: var(--fill-color);\n",
              "      border-top-color: var(--fill-color);\n",
              "      border-right-color: var(--fill-color);\n",
              "    }\n",
              "    40% {\n",
              "      border-color: transparent;\n",
              "      border-right-color: var(--fill-color);\n",
              "      border-top-color: var(--fill-color);\n",
              "    }\n",
              "    60% {\n",
              "      border-color: transparent;\n",
              "      border-right-color: var(--fill-color);\n",
              "    }\n",
              "    80% {\n",
              "      border-color: transparent;\n",
              "      border-right-color: var(--fill-color);\n",
              "      border-bottom-color: var(--fill-color);\n",
              "    }\n",
              "    90% {\n",
              "      border-color: transparent;\n",
              "      border-bottom-color: var(--fill-color);\n",
              "    }\n",
              "  }\n",
              "</style>\n",
              "\n",
              "      <script>\n",
              "        async function quickchart(key) {\n",
              "          const quickchartButtonEl =\n",
              "            document.querySelector('#' + key + ' button');\n",
              "          quickchartButtonEl.disabled = true;  // To prevent multiple clicks.\n",
              "          quickchartButtonEl.classList.add('colab-df-spinner');\n",
              "          try {\n",
              "            const charts = await google.colab.kernel.invokeFunction(\n",
              "                'suggestCharts', [key], {});\n",
              "          } catch (error) {\n",
              "            console.error('Error during call to suggestCharts:', error);\n",
              "          }\n",
              "          quickchartButtonEl.classList.remove('colab-df-spinner');\n",
              "          quickchartButtonEl.classList.add('colab-df-quickchart-complete');\n",
              "        }\n",
              "        (() => {\n",
              "          let quickchartButtonEl =\n",
              "            document.querySelector('#df-cff34294-28a9-45eb-87a6-b21d9dd7a14d button');\n",
              "          quickchartButtonEl.style.display =\n",
              "            google.colab.kernel.accessAllowed ? 'block' : 'none';\n",
              "        })();\n",
              "      </script>\n",
              "    </div>\n",
              "\n",
              "    </div>\n",
              "  </div>\n"
            ],
            "application/vnd.google.colaboratory.intrinsic+json": {
              "type": "dataframe",
              "summary": "{\n  \"name\": \"news_dataset\",\n  \"rows\": 5,\n  \"fields\": [\n    {\n      \"column\": \"Unnamed: 0\",\n      \"properties\": {\n        \"dtype\": \"number\",\n        \"std\": 2239,\n        \"min\": 4021,\n        \"max\": 8622,\n        \"num_unique_values\": 5,\n        \"samples\": [\n          8062,\n          4330,\n          8622\n        ],\n        \"semantic_type\": \"\",\n        \"description\": \"\"\n      }\n    },\n    {\n      \"column\": \"title\",\n      \"properties\": {\n        \"dtype\": \"string\",\n        \"num_unique_values\": 5,\n        \"samples\": [\n          \"The \\u2018P\\u2019 in PBS Should Stand for \\u2018Plutocratic\\u2019 or \\u2018Pentagon\\u2019\",\n          \"Jeb Bush Is Suddenly Attacking Trump. Here's Why That Matters\",\n          \"Anti-Trump Protesters Are Tools of the Oligarchy     : Information\"\n        ],\n        \"semantic_type\": \"\",\n        \"description\": \"\"\n      }\n    },\n    {\n      \"column\": \"text\",\n      \"properties\": {\n        \"dtype\": \"string\",\n        \"num_unique_values\": 5,\n        \"samples\": [\n          \"The \\u2018P\\u2019 in PBS Should Stand for \\u2018Plutocratic\\u2019 or \\u2018Pentagon\\u2019 Posted on Oct 27, 2016 ( WikiMedia ) \\nIn a television commercial that the Public Broadcasting System (PBS) ran for years, \\u201cPBS NewsHour\\u201d host Gwen Ifill declared that she loved her job because it allowed her to \\u201cask not only all of my questions but also and more importantly all of your questions .\\u201d This assertion was and remains absurd, just like her network\\u2019s regular fundraising claim to be free of corporate sponsors. \\nThe claim has long been contradicted by the string of corporate-image commercials (purchased by leading financial, defense, auto, insurance and rail corporations) that appear before the network\\u2019s nightly \\u201cNewsHour\\u201d broadcast\\u2014along with a list of corporate-sponsored foundations and superwealthy individuals who pay for the show, along with \\u201cregular viewers like you.\\u201d \\nConsistent with those commercials and despite its name, the news and commentary one finds on PBS is in rich tune with the narrow capitalist parameters of acceptable coverage and debate that typify the more fully and explicitly for-profit and commercialized corporate media. As progressive journalist David Sirota suggested two years ago , reflecting on recent investigations showing that supermoneyed, right-wing capitalists such as the Koch brothers and Texas billionaire John Arnold had (along with more liberal software mogul Bill Gates) influenced PBS content through multimillion-dollar donations, the \\u201cP\\u201d in PBS often seems to more properly stand for \\u201cPlutocratic,\\u201d not \\u201cPublic.\\u201d \\nAdvertisement Square, Site wide \\nNone of this should be surprising to anyone familiar with the distinctively big-business-dominated history of U.S. broadcast media . Because the United States fails to provide anything like adequate funding for public broadcasting, both PBS and National Public Radio (a regular vehicle for neoliberal business ideology) depend upon foundations, corporations and wealthy individuals to pay for much of their programming. Beneath their standard claims to have no interest in shaping public media content, these private funders have bottom-line agendas, meaning that their contributions come with strings attached\\u2014strings that undermine the integrity of the \\u201cindependent\\u201d journalism they bankroll. (For what it\\u2019s worth, between 1994 and 2014, the \\u201cNewsHour\\u201d was primarily owned by the for-profit firm Liberty Media . Liberty Media was run by the conservative and politically active billionaire John Malone, who had a majority stake in MacNeil/Lehrer Productions, the show\\u2019s producer.) \\nThe Pentagon Broadcasting System? \\nWhat might seem more surprising, perhaps, is the remarkable extent to which the \\u201cP\\u201d in PBS often seems to stand for \\u201cPentagon,\\u201d or perhaps \\u201cPresidential,\\u201d when it comes to foreign policy content. Whatever the global issue of the day or week, \\u201cNewsHour\\u201d anchors and their invited \\u201cexperts\\u201d can be counted on to report and reflect in accord with the doctrinal assumption that Washington always operates with the best of intentions. They almost uniformly treat the U.S. as a great, benevolent and indispensable force for freedom, democracy, security, peace and order in a dangerous world full of evil and deadly actors. \\nThe show\\u2019s invited commentators are drawn primarily from the nation\\u2019s imperial establishment. They are commonly current or retired insiders from within the Pentagon, the White House, the \\u201cintelligence community\\u201d and/or the nation\\u2019s elite network of foreign policy think tanks: the Council on Foreign Relations (the granddaddy of all U.S. ruling-class think tanks ), the Carnegie Endowment for International Peace, the Aspen Institute, the Atlantic Council, the Rand Corp. and the Hoover Institution, to name a handful. \\u201cNewsHour\\u201d anchors and guests generally agree that the United States\\u2019 officially designated enemies are malevolent bad guys who need to be contained, controlled and even attacked by the ultimate good guy, Uncle Sam. \\nNot surprisingly, the long and ongoing record of U.S. imperial arrogance and criminality (more on that below) is swept down George Orwell\\u2019s memory hole even as new entries are added to the ugly registry. When reported by the \\u201cNewsHour,\\u201d horrific crimes committed by the U.S. military are always treated as well-intended mistakes. Along with the rest of the mainstream U.S. media, the \\u201cNewsHour\\u201d \\u201cinsist[s] that Russia deliberately bombs hospitals, etc., whereas if we do it, it is, of course, an accident .\\u201d \\nThere\\u2019s some room for disagreement between and among the show\\u2019s invited experts\\u2014including the show\\u2019s semi-loopy foreign policy authority, Margaret Warner\\u2014about specific U.S. foreign policy tactics, strategies and actions. There\\u2019s no space for serious debate about the immorality, lawlessness or imperial nature of that policy. On the rare occasions \\u201cNewsHour\\u201d anchors seem to challenge guests from the White House or Pentagon on foreign policy matters, it is generally to ask why the U.S. isn\\u2019t going harder at the officially certified bad guys. \\nAmerica as Umpire, Not Empire \\nThe foreign policy coverage and commentary doesn\\u2019t get much better in the documentary division of PBS. A recent documentary (first aired nationally last week) shown by PBS bears the risible title \\u201cAmerican Umpire\\u201d\\u2014an obvious World Series season play on what the filmmakers see as the preposterous notion of an American empire. It is narrated by ex-Marine and former \\u201cNewsHour\\u201d host and producer Jim Lehrer. Developed by the right-wing Hoover Institution and \\u201ctargeted for PBS\\u201d (the organization\\u2019s own revealing phrase), \\u201cAmerican Umpire\\u201d takes the doctrinal \\u201cAmerican exceptionalist,\\u201d U.S.-good-and-civilized-rest-of-world-dangerous-and-bad narrative to absurd lengths. \\nIt provides extensive \\u201cexpert\\u201d commentary from such former imperial operatives as Madeline Albright (the onetime U.S. secretary of state who led the charge to criminally bomb Serbia and who went on CBS\\u2019 \\u201c60 Minutes\\u201d to say that the death of more than half a million Iraqi children killed by Washington-led \\u201ceconomic sanctions\\u201d was \\u201ca price worth paying\\u201d for the advance of U.S. foreign policy goals), Condoleezza Rice (George W. Bush\\u2019s neoconservative national security adviser before and during the arch-criminal U.S. invasion of Iraq), Gen. Jim \\u201cMad Dog\\u201d Mattis (an Iraq invasion commander and a former chief of the U.S. Central Command, who two years ago told a San Diego audience that \\u201cit\\u2019s fun to shoot people\\u201d), George Schultz (the Reagan-era secretary of state who called the Sandinista government in Nicaragua \\u201ca cancer in our own land mass\\u201d that must be \\u201ccut out\\u201d) and Karl Eikenberry (a retired Army lieutenant general who commanded U.S. forces in Afghanistan 10 years ago). \\nWith further commentary from a handful of mostly conservative academicians\\u2014above all the nationalist Texas A&M historian Elizabeth Cobbs ( author of a book on which the documentary is based), \\u201cAmerican Umpire\\u201d portrays 20th and 21st century U.S. foreign policy as nothing more than a noble effort to selflessly provide welcome and fair rules and discipline on the rest of a childish, dangerous and reckless planet (think \\u201cLord of the Flies\\u201d) that lacks the exceptional historical experience bequeathed to U.S. leaders by the nation\\u2019s far-seeing Founding Fathers. The only substantive criticism of U.S. foreign policy in \\u201cAmerican Umpire\\u201d is the complaint, voiced by numerous interview subjects, that America harms itself to the benefit of others (the Europeans above all) by taking upon its shoulders too much of the burden of benevolently policing the planet. We are just too good for our own good. \\nOur Real Task \\nThere is not space here to discuss in responsible detail the epic historical deletions and distortions this narrative imposes. The omissions are staggering. They range from the slaughter of hundreds of thousands of Filipinos resisting U.S. imperial invasion and occupation at the last century\\u2019s outset to the restoration of de facto slavery in Haiti and the Dominican Republic after World War I; the unnecessary atom bombing of Hiroshima and, even worse, of Nagasaki (really the first shots of the Cold War ); the toppling of more than 50 governments by U.S. coups and invasions since the end of World War II; the liquidation of perhaps as many as 5 million Southeast Asians in the so-called Vietnam War between 1962 and 1975; the Cold War-era sponsorship of Third World fascism from Chile to South Africa and Indonesia; the attempted assassinations of Fidel Castro and numerous CIA-directed terror bombings in socialist Cuba; the near instigation of global thermonuclear war on at least three occasions; the development and sponsorship of Osama bin Laden and other radically arch-reactionary, jihadist Muslim, paramilitary forces to fight the Cold War against the Soviet Union in Afghanistan; the \\u201cHighway of Death,\\u201d when U.S. warplanes engaged in an aerial traffic jam as they rushed to slaughter tens of thousands of surrendered Iraqi troops retreating from Iraq in 1991; the coordination and sponsorship of a mass-murderous civil war on peasants, workers and intellectuals (with a death toll well into the many hundreds of thousands) in Central America during the 1970s and 1980s; the disastrous U.S. invasion of Iraq (responsible for at least 1 million Iraqi deaths); the calamitous U.S. toppling of the Libyan Gadhafi regime; the calamitous destabilization of the Syrian regime; the U.S. funding and encouragement of civil war in central Africa; the enablement and protection of a vicious right-wing coup in Honduras in the spring and summer of 2009; the criminal U.S. global war of terror, replete with rampant \\u201ctargeted assassinations,\\u201d torture, illegal renditions, endless drone war and special-forces killing operations across the Muslim world and other places as well. \\n\\u201cAmerican Umpire\\u201d hides these horrific transgressions and the imperial calculations behind much of U.S. foreign policy past and present. As numerous key U.S. planning documents reveal over and over, the goal of that policy was to maintain and, if necessary, install governments that \\u201cfavor[ed] private investment of domestic and foreign capital, production for export, and the right to bring profits out of the country.\\u201d Given the United States\\u2019 remarkable possession of half the world\\u2019s capital after World War II, Washington elites had no doubt that U.S. investors and corporations would profit the most. Internally, the basic, selfish, national and imperial objectives were openly and candidly discussed. As the \\u201cliberal\\u201d and \\u201cdovish\\u201d imperialist, top State Department planner and key Cold War architect George F. Kennan explained in Policy Planning Study 23, a critical 1948 document: \\u201cWe have about 50% of the world\\u2019s wealth, but only 6.3% of its population. \\u2026 In this situation, we cannot fail to be the object of envy and resentment. Our real task in the coming period is to devise a pattern of relationships which will permit us to maintain this position of disparity. \\u2026 To do so, we will have to dispense with all sentimentality and day-dreaming. ... The less we are then hampered by idealistic slogans, the better.\\u201d \\nThe necessity of dispensing with \\u201chuman rights\\u201d and other \\u201csentimental\\u201d and \\u201cunreal objectives\\u201d was especially pressing in the \\u201cglobal south.\\u201d Washington assigned the vast periphery of the world economic (capitalist) system\\u2014Africa, Latin America, Southeast Asia and the energy-rich and thus strategically hypersignificant Middle East\\u2014a less than flattering role. It was to \\u201cfulfill its major function as a source of raw materials and a market\\u201d ( actual State Department language ) for the great industrial (capitalist) nations (excluding \\u201csocialist\\u201d Russia and its satellites). It was to be exploited both for the benefit of U.S. corporations/investors and for the reconstruction of Europe and Japan as prosperous U.S. trading and investment partners organized on properly capitalist principles that were hostile to the Soviet bloc. \\n\\u201cDemocracy\\u201d was fine as a slogan and benevolent, idealistic-sounding mission statement when it came to marketing this core, underlying, ultra-imperialist U.S. policy at home and abroad. Because most people in the \\u201cThird World\\u201d had no interest in neocolonial subordination and subscribed to what U.S. intelligence officials considered the heretical \\u201cidea that government has direct responsibility for the welfare of its people\\u201d (what post-World War II U.S. planners called \\u201ccommunism\\u201d), Washington\\u2019s real-life commitment to popular governance abroad was strictly qualified, to say the least. \\u201cDemocracy\\u201d was suitable to the U.S. as long as its outcomes comported with the interests of U.S. investors/corporations and related U.S. geopolitical objectives. It had to be abandoned, undermined and/or crushed when it threatened those investors/corporations and the broader imperatives of business rule to any significant degree. As President Richard Nixon\\u2019s coldblooded National Security Adviser Henry Kissinger explained in June 1970, three years before the U.S. sponsored a fascist coup that overthrew Chile\\u2019s democratically elected leftist President Salvador Allende, \\u201cI don\\u2019t see why we need to stand by and watch a country go Communist because of the irresponsibility of its own people.\\u201d \\nThe selfish imperial cynicism of U.S. foreign policy continues to this day, into the post-Cold War and post-9/11 era. As leading Dutch political scientists Bastiaann van Apeldoorn and Nana de Graaff write in their important new volume , \\u201cAmerican Grand Strategy and Corporate Elite Networks: The Open Door Since the End of the Cold War,\\u201d \\u201cFrom the end of the 19th nineteenth century onward, American grand strategy has pursued a liberal expansionism aimed at the creation of a global hegemony premised upon open, \\u201cfree\\u201d markets, to which global capital\\u2014and, above all, U.S. transnational capital\\u2014has full access. \\u2026 The global Open Door has continued to define the ends of the American grand strategy throughout the post-Cold War era.\\u201d Because\\u2014as during and before\\u2014the Cold War\\u2019s end, Washington\\u2019s commitment to \\u201cdemocracy\\u201d and \\u201chuman rights\\u201d is conditional and hypocritical: The noble principles are fine insofar as they serve the free-market hegemony of global and especially U.S. transnational capital. They are dispensed with, even as U.S. policymakers trumpet them, when they do not.\",\n          \"Jeb Bush Is Suddenly Attacking Trump. Here's Why That Matters\\n\\nJeb Bush isn't pulling punches anymore when it comes to Donald Trump.\\n\\nThe former Florida governor has delicately danced around the billionaire businessman in the 2016 presidential primary so far. But the gloves came off this week when Bush called out Trump as a closet Democrat. He was trying to stunt Trump's rise while attempting to recover his own political mojo.\\n\\n\\\"What Jeb is desperately trying to do is find his swagger right now,\\\" GOP strategist Ford O'Connell said. \\\"The knock against Jeb is that he's low voltage and not willing to fight. The best way to shake those perceptions it to engage against the person who is in the media on a 24/7 loop.\\\"\\n\\nIt's a change from Bush's approach to this point. He hasn't lobbed many direct attacks at Trump other than delicately condemning his criticism of Arizona Sen. John McCain's war service and his attacks against Fox News' Megyn Kelly.\\n\\nEven in this month's first debate, Bush swatted down a story that he had allegedly called Trump a \\\"buffoon\\\" and a \\\"clown,\\\" saying only that Trump's language had been \\\"divisive.\\\" Trump called Bush \\\"a true gentleman.\\\"\\n\\nThe detente ended this week. So far, most of the top-tier candidates have avoided directly attacking Trump, treating him with kid gloves so as not to anger the part of the GOP base to which Trump appeals.\\n\\nIn other words, the very voters they need when, they hope, Trump fades.\\n\\nIn split-screen New Hampshire town halls this week, Bush and Trump volleyed attacks on each other. Bush took his most pointed jabs at the current front-runner, underscoring Trump's past history as a Democrat and the liberal positions he used to hold.\\n\\n\\\"Mr. Trump doesn't have a proven conservative record,\\\" Bush said, according to the Washington Post. \\\"He was a Democrat longer in the last decade than he was a Republican. He has given more money to Democrats than he's given to Republicans.\\\"\\n\\nBush went on to attack Trump over his hard-line immigration proposal, arguing it was not just \\\"vitriolic\\\" but would have a massive price tag.\\n\\n\\\"Hundreds of billions of dollars of costs to implement his plans is not a conservative plan,\\\" Bush said. \\\"This is going to be my pitch: Let's support someone who you don't have to guess where he stands because he's consistent, because he's been governor, he's consistently had the views that he has.\\\"\\n\\nOver the next few days, Bush continued the hits on social media.\\n\\nBut Trump, never one to miss a moment to retaliate, didn't pull his punches, either. At his own town hall Wednesday, Trump blasted Bush as an unelectable \\\"low-energy person.\\\"\\n\\n\\\"You know what's happening to Jeb's crowd just down the street? They're sleeping!\\\" Trump said to applause.\\n\\nSince then, Trump has also ramped up his attacks against Bush on Twitter.\\n\\nThe move to more hot rhetoric may have tripped Bush up, though. Consider his use of the phrase \\\"anchor babies.\\\" While immigration reform is something Bush is passionate about \\u2014 and has even written a book about \\u2014 he's often criticized within the GOP as too liberal on the issue. Instead, a more combative Bush appeared to use the loaded phrase for the first time.\\n\\nHe was left struggling to defend his use of it. It may have been a signal that the attack-dog crouch he's taking is still one that isn't completely comfortable to Bush, who earlier said he wanted to campaign \\\"joyfully.\\\"\\n\\nOther candidates have embraced hitting Trump. Kentucky Sen. Rand Paul went after him forcefully in the debate, though his punch \\u2014 that Trump was hedging his bets to support Hillary Clinton if she wins the presidency \\u2014 didn't appear to land.\\n\\nOther candidates like Ohio Gov. John Kasich demurred. In the earlier GOP debate that night, former Texas Gov. Rick Perry and businesswoman Carly Fiorina also jabbed at Trump.\\n\\nBush, though, needs to close the floodgates. He's dropped in national polls as Trump has risen. And, in New Hampshire, where Bush once led, Trump and even newcomer Kasich have seen surges.\\n\\nCullen, a former New Hampshire GOP chairman, said the change in tone and tactics was a smart move for Bush, one that could help him in the Granite State.\\n\\n\\\"I think it's good politics for Jeb,\\\" said Fergus Cullen, a former New Hampshire Republican Party chairman. \\\"There's 25 percent of the Republicans who are entertained by Donald Trump. But there's 60 percent of the party who say they won't vote for him under any circumstances. Those aren't Jeb Bush's people to begin with. He's trying to appeal to the other 60 percent by being the adult in the room and trying to govern.\\\"\\n\\nO'Connell agreed. He pointed out that even if this new approach is one that's uncomfortable for Bush, it's necessary.\\n\\n\\\"In a lot of elections, being the studious one would have worked,\\\" he said, \\\"but Trump has flipped the script.\\\"\",\n          \" Anti-Trump Protesters Are Tools of the Oligarchy \\u0093Reform always provokes rage on the part of those who profit by the old order.\\u0094 Arthur M. Schlesinger, Jr., The Crisis of the Old Order\\nBy Paul Craig Roberts\\n Who are the anti-Trump protesters besmirching the name of progressives by pretending to be progressives and by refusing to accept the outcome of the presidential election? They look like, and are acting worse than, the \\u0093white trash\\u0094 that they are denouncing.\\nI think I know who they are. They are thugs for hire and are paid by the Oligarchy to delegitimize Trump\\u0092s presidency in the way that Washington and the German Marshall Fund paid students in Kiev to protest the democratically elected Ukrainian government in order to prepare the way for a coup.\\nThe organization, change.org, which claims to be a progressive group, but might be a front, along with other progressive groups, for the Oligarchy, is destroying the reputation of all progressives by circulating a petition that directs the electors of the Electoral Collage to annul the election by casting their votes for Hillary. Remember how upset progressives were when Trump said he might not accept the election result if there was evidence that the vote was rigged? Now progressives are doing what they damned Trump for saying he might do under certain conditions.\\nThe Western presstitutes used the protests in Kiev to delegitimize a democratically elected government and to set it up for a coup. The protest pay was good enough that non-Ukrainians came from nearby countries to participate in the protest in order to collect the money. At the time I posted the amounts paid daily to protesters. Reports came in to me from Eastern and Western Europe from people who were not Ukrainian but were paid to protest as if they were Ukrainians.\\nThe same thing is going on with the Trump protests. CNN reports that \\u0093for many Americans across the country, Donald Trump\\u0092s victory is an outcome they simply refuse to accept. Tens of thousands filled the streets in at least 25 US cities overnight.\\u0094 This is the exact reporting that the Oligarchy desired from its presstitutes and got.\\nI hope no one thinks that simultaneous protests in 25 cities were a spontaneous event. How did 25 independent protests manage to come up with the same slogans and the same signs on the same night following the election?\\nWhat is the point of the protests, and what interest is served by them? As the Romans always asked, \\u0093who benefits?\\u0094\\nThere is only one answer: The Oligarchy and only the Oligarchy benefits.\\nTrump is a threat to the Oligarchy, because he intends to stop the giveaway of American jobs to foreigners. The jobs giveaway, sanctified by the neoliberal junk economists as \\u0093free trade,\\u0094 is one of the main reasons for the 21st century worsening of the US income distribution. Money that was formerly paid in middle class wages and salaries to American manufacturing employees and college graduates has been re-routed to the pockets of the One Percent.\\nWhen US corporations move their production of goods and services sold to Americans offshore to Asian countries, such as China and India, their wage bill falls. The money formerly paid in middle class incomes goes instead into executive bonuses and dividends and capital gains to shareholders. The ladders of upward mobility that had made America the land of opportunity were dismantled for the sole purpose of making a handful of people multi-billionaires.\\nTrump is a threat to the Oligarchy, because he intends peaceful relations with Russia. In order to replace the profitable Soviet Threat, the Oligarchy and their neoconservative agents worked overtime to recreate the \\u0093Russian Threat\\u0094 by demonizing Russia.\\nAccustomed to many decades of excess profits from the profitable Cold War, the military/security complex was angry when President Reagan brought the Cold War to an end. Before these leaches on American taxpayers could get the Cold War going again, the Soviet Union collapsed as a result of a right-wing coup against Soviet President Mikhail Gorbachev.\\nThe military/security complex and their zionist neoconservative agents cooked up \\u0093the war on terror\\u0094 to keep the money flowing to the One Percent. But as hard as the presstitute media worked to create fear of \\u0093the Muslim threat,\\u0094 even insouciant Americans knew that the Muslims did not have thousands of ICBMs carrying powerful thermo-nuclear weapons capable of destroying the entirety of the United States in a few minutes. Neither did the Muslims have the Red Army capable of overrunning all of Europe in a couple of days. Indeed, the Muslims haven\\u0092t needed an army. Refugees from Washington\\u0092s wars enabled by Europeans are overrunning Europe.\\nThe excuse for the annual trillion dollar ($1,000 billion ) military/security budget was missing. So the Oligarchy created \\u0093the New Hitler\\u0094 in Russia. Hillary was the Oligarchy\\u0092s principle agent for heating up the new Cold War.\\nHillary is the tool, enriched by the Oligarchy, whose job as President was to protect and to increase the trillion dollar budget of the military/security complex. With Hillary in the White House, the looting of the American taxpayers in behalf of the wealth of the One Percent could go forward unimpeded. But if Trump resolves \\u0093the Russian threat,\\u0094 the Oligarchy takes an income hit.\\nHillary\\u0092s job as President was also to privatize Social Security in order that her Wall Street benefactors can rip off Americans the way that Americans have been ripped off by the insurance companies under Obamacare.\\nThose Americans who do not pay attention think, mistakenly, that the FBI cleared Hillary of violating National Security protocols with her email practices. The FBI said that Hillary did violate National Security, but that it was a result of carelessness or ignorance. She got off from indictment, because the FBI concluded that she did not intentionally violate National Security protocols. The investigation of the Clinton Foundation continues.\\nIn other words, in order to protect Hillary the FBI fell back on the ancient common law rule that \\u0093there can be no crime without intent.\\u0094 (See PCR and Lawrence Stratton, The Tyranny of Good Intentions .)\\nOne would think that protesters, if they were legitimate, would be celebrating Trump\\u0092s victory. He, unlike Hillary, promises to reduce tensions with powerful Russia, and we hope also with China. Unlike Hillary, Trump says he is concerned with the absence of careers for those very people protesting in the streets of 25 cities against him.\\nIn other words, the protests against the American people for electing Trump as their president are pointless. The protests are happening for one reason only. The Oligarchy intends to delegitimize the Trump Presidency. Once President Trump is delegitimized, it will be easier for the Oligarchy to assassinate him. Unless the Oligarchy can appoint and control Trump\\u0092s government, Trump is a prime candidate for assassination.\\nThe protests against Trump are suspicious for another reason. Unlike Hillary, Obama, and George W. Bush, Donald Trump has not slaughtered and dislocated millions of peoples in seven countries, sending millions of refugees from the Oligarchy\\u0092s wars to overrun Europe.\\nTrump earned his fortune, and if by hook or crook, not by selling US government influence to foreign agents as Bill and Hillary did.\\nSo what are the protesters protesting?\\nThere is no answer except that they are hired to protest. Just as the Maidan protesters in Kiev were hired to protest by US and German financed NGOs.\\nThe protests in Kiev were equally pointless, because presidential elections were only months away. If Ukrainians really believed that their president was conspiring with Russia to keep Ukraine from becoming a Western puppet state and wished to become a puppet state regardless of the costs, the opportunity to vote the government out was at hand. The only reason for the protests was to orchestrate a coup. The US did succeed in putting their agent in control of the new Ukrainian government as Victoria Nuland and the US ambassador in Kiev confirmed in their telephone conversation that is available on the Internet.\\nThe Maidan protests were pointless except for making a coup possible. The protests were without any doubt arranged by Washington through Assistant Secretary of State Victoria Nuland, a neoconservative brought into the State Department by Hillary Clinton for the purpose of creating conflict with Russia.\\nTrump is being protested in order to make him vulnerable in the event he proves to be the threat to the Oligarchy that he is thought to be.\\nTrump won the presidency, but the Oligarchy is still in power, which makes any real reforms difficult to achieve. Symbolic reforms can be the product of the contest between President Trump and the oligarchs.\\nKarl Marx learned from historical experience, and Lenin, Stalin, and Pol Pot learned from Karl Marx, that change cannot occur if the displaced ruling class is left intact after a revolution against them. We have proof of this throughout South America. Every revolution by the indigenous people has left unmolested the Spanish ruling class, and every revolution has been overthrown by collusion between the ruling class and Washington.\\nWashington has conspired with traditional elites to remove the elected presidents of Honduras on a number of occasions. Recently, Washington helped elites evict the female presidents of Argentina and Brazil. The presidents of Venezuela, Ecuador, and Bolivia are in the crosshairs and are unlikely to survive. Washington is determined to get its hands on Julian Assange. To achieve this Washington intends to overthrow the Ecuadoran government that, in defiance of Washington, gave Julian Assange political asylum.\\nHugo Chavez had the power to exile or to exterminate the Spanish ruling class in Venezuela when the ruling class participated in a CIA coup against Chavez. But before the CIA could kill Chavez, the people and the military forced his release. Instead of punishing the criminals who would have murdered him, Chavez let them go.\\nAccording to Marx, Lenin, and Stalin, this is the classic mistake of the revolutionary. To rely on good will from the overthrown ruling class is the certain road to the defeat of the revolution.\\nLatin American has proved itself unable to learn this lesson: Revolutions cannot be conciliatory.\\nTrump is a dealmaker. The Oligarchy can permit him the sheen of success in exchange for no real change.\\nTrump is not perfect. He might fail on his own. But we should back him on the two most important elements in his program: to reduce tensions between the major nuclear powers, and to halt Washington\\u0092s policy of permitting globalism to destroy Americans\\u0092 economic prospects.\\nIf tensions between nuclear powers worsen, we won\\u0092t be here to worry about other problems. The combination of the economy hollowed out by globalism and immigration is an economic nightmare. That Trump understands this is reason to support him.\\nNote: Some believe that Trump is a ruse conducted by the Oligarchy. However, as Hillary is the bought-and-paid-for representative of the Oligarchy, such an elaborate ruse is unnecessary. It is preferable for the Oligarchy to win on its own platform than to install a president on the opposite platform and then change him around. Another sellout increases the anger of the people. If Hillary had won, the Oligarchy would have had the voters\\u0092 mandate for their platform.\\nDr. Paul Craig Roberts was Assistant Secretary of the Treasury for Economic Policy and associate editor of the Wall Street Journal. He was columnist for Business Week, Scripps Howard News Service, and Creators Syndicate. He has had many university appointments. His internet columns have attracted a worldwide following. Roberts' latest books are The Failure of Laissez Faire Capitalism and Economic Dissolution of the West , How America Was Lost , and The Neoconservative Threat to World Order .\"\n        ],\n        \"semantic_type\": \"\",\n        \"description\": \"\"\n      }\n    },\n    {\n      \"column\": \"label\",\n      \"properties\": {\n        \"dtype\": \"category\",\n        \"num_unique_values\": 2,\n        \"samples\": [\n          \"FAKE\",\n          \"REAL\"\n        ],\n        \"semantic_type\": \"\",\n        \"description\": \"\"\n      }\n    }\n  ]\n}"
            }
          },
          "metadata": {},
          "execution_count": 11
        }
      ]
    },
    {
      "cell_type": "code",
      "source": [
        "# counting the number of missing values in the dataset\n",
        "news_dataset.isnull().sum()"
      ],
      "metadata": {
        "colab": {
          "base_uri": "https://localhost:8080/",
          "height": 209
        },
        "id": "gw91dglWpC0J",
        "outputId": "08ce7660-71e5-496e-bd5c-eafd3764718e"
      },
      "execution_count": null,
      "outputs": [
        {
          "output_type": "execute_result",
          "data": {
            "text/plain": [
              "Unnamed: 0    0\n",
              "title         0\n",
              "text          0\n",
              "label         0\n",
              "dtype: int64"
            ],
            "text/html": [
              "<div>\n",
              "<style scoped>\n",
              "    .dataframe tbody tr th:only-of-type {\n",
              "        vertical-align: middle;\n",
              "    }\n",
              "\n",
              "    .dataframe tbody tr th {\n",
              "        vertical-align: top;\n",
              "    }\n",
              "\n",
              "    .dataframe thead th {\n",
              "        text-align: right;\n",
              "    }\n",
              "</style>\n",
              "<table border=\"1\" class=\"dataframe\">\n",
              "  <thead>\n",
              "    <tr style=\"text-align: right;\">\n",
              "      <th></th>\n",
              "      <th>0</th>\n",
              "    </tr>\n",
              "  </thead>\n",
              "  <tbody>\n",
              "    <tr>\n",
              "      <th>Unnamed: 0</th>\n",
              "      <td>0</td>\n",
              "    </tr>\n",
              "    <tr>\n",
              "      <th>title</th>\n",
              "      <td>0</td>\n",
              "    </tr>\n",
              "    <tr>\n",
              "      <th>text</th>\n",
              "      <td>0</td>\n",
              "    </tr>\n",
              "    <tr>\n",
              "      <th>label</th>\n",
              "      <td>0</td>\n",
              "    </tr>\n",
              "  </tbody>\n",
              "</table>\n",
              "</div><br><label><b>dtype:</b> int64</label>"
            ]
          },
          "metadata": {},
          "execution_count": 12
        }
      ]
    },
    {
      "cell_type": "code",
      "source": [
        "# replacing the null values with empty string\n",
        "news_dataset = news_dataset.fillna('')"
      ],
      "metadata": {
        "id": "NDbSeoROp1s3"
      },
      "execution_count": null,
      "outputs": []
    },
    {
      "cell_type": "code",
      "source": [
        "# merging the title and text\n",
        "news_dataset['content'] = news_dataset['title']+' '+news_dataset['text']"
      ],
      "metadata": {
        "id": "-jcp6ou0qbT_"
      },
      "execution_count": null,
      "outputs": []
    },
    {
      "cell_type": "code",
      "source": [
        "print(news_dataset['content'])"
      ],
      "metadata": {
        "colab": {
          "base_uri": "https://localhost:8080/"
        },
        "id": "EEYyjhs-rbCk",
        "outputId": "e686924a-b406-4f89-d416-de9b17d1ea5f"
      },
      "execution_count": null,
      "outputs": [
        {
          "output_type": "stream",
          "name": "stdout",
          "text": [
            "0       You Can Smell Hillary’s Fear Daniel Greenfield...\n",
            "1       Watch The Exact Moment Paul Ryan Committed Pol...\n",
            "2       Kerry to go to Paris in gesture of sympathy U....\n",
            "3       Bernie supporters on Twitter erupt in anger ag...\n",
            "4       The Battle of New York: Why This Primary Matte...\n",
            "                              ...                        \n",
            "6330    State Department says it can't find emails fro...\n",
            "6331    The ‘P’ in PBS Should Stand for ‘Plutocratic’ ...\n",
            "6332    Anti-Trump Protesters Are Tools of the Oligarc...\n",
            "6333    In Ethiopia, Obama seeks progress on peace, se...\n",
            "6334    Jeb Bush Is Suddenly Attacking Trump. Here's W...\n",
            "Name: content, Length: 6335, dtype: object\n"
          ]
        }
      ]
    },
    {
      "cell_type": "code",
      "source": [
        "# separating the data & label\n",
        "X = news_dataset.drop(columns='label',axis=1)\n",
        "Y = news_dataset['label']"
      ],
      "metadata": {
        "id": "ds8MBH0XrjuH"
      },
      "execution_count": null,
      "outputs": []
    },
    {
      "cell_type": "code",
      "source": [
        "print(X)\n",
        "print(Y)"
      ],
      "metadata": {
        "colab": {
          "base_uri": "https://localhost:8080/"
        },
        "id": "2goUH6TJsnAP",
        "outputId": "405eb0b3-2b3a-4207-fd4d-9af4a8fce37f"
      },
      "execution_count": null,
      "outputs": [
        {
          "output_type": "stream",
          "name": "stdout",
          "text": [
            "      Unnamed: 0  ...                                            content\n",
            "0           8476  ...  You Can Smell Hillary’s Fear Daniel Greenfield...\n",
            "1          10294  ...  Watch The Exact Moment Paul Ryan Committed Pol...\n",
            "2           3608  ...  Kerry to go to Paris in gesture of sympathy U....\n",
            "3          10142  ...  Bernie supporters on Twitter erupt in anger ag...\n",
            "4            875  ...  The Battle of New York: Why This Primary Matte...\n",
            "...          ...  ...                                                ...\n",
            "6330        4490  ...  State Department says it can't find emails fro...\n",
            "6331        8062  ...  The ‘P’ in PBS Should Stand for ‘Plutocratic’ ...\n",
            "6332        8622  ...  Anti-Trump Protesters Are Tools of the Oligarc...\n",
            "6333        4021  ...  In Ethiopia, Obama seeks progress on peace, se...\n",
            "6334        4330  ...  Jeb Bush Is Suddenly Attacking Trump. Here's W...\n",
            "\n",
            "[6335 rows x 4 columns]\n",
            "0       FAKE\n",
            "1       FAKE\n",
            "2       REAL\n",
            "3       FAKE\n",
            "4       REAL\n",
            "        ... \n",
            "6330    REAL\n",
            "6331    FAKE\n",
            "6332    FAKE\n",
            "6333    REAL\n",
            "6334    REAL\n",
            "Name: label, Length: 6335, dtype: object\n"
          ]
        }
      ]
    },
    {
      "cell_type": "markdown",
      "source": [
        "Steamming\n",
        "\n",
        "\n",
        "steamming is the process of reducing a word to its root word\n",
        "\n",
        "example:\n",
        "actor,actress,acting--> act\n"
      ],
      "metadata": {
        "id": "R67EAxFEtogu"
      }
    },
    {
      "cell_type": "code",
      "source": [
        "from nltk.stem.porter import PorterStemmer\n",
        "port_stem = PorterStemmer()"
      ],
      "metadata": {
        "id": "kjhwO2o3syir"
      },
      "execution_count": null,
      "outputs": []
    },
    {
      "cell_type": "code",
      "source": [
        "# creating a function\n",
        "def steamming(content):\n",
        "  stemmed_content = re.sub('[^a-zA-z]',' ',content)\n",
        "  stemmed_content = stemmed_content.lower()\n",
        "  stemmed_content = stemmed_content.split()\n",
        "  stemmed_content = [port_stem.stem(word) for word in stemmed_content if not word in stopwords.words('english')]\n",
        "  stemmed_content = ' '.join(stemmed_content)\n",
        "  return stemmed_content\n",
        "  news_dataset['content'] = news_dataset['content'].apply(stemming)"
      ],
      "metadata": {
        "id": "d6gh0h-1u8wS"
      },
      "execution_count": null,
      "outputs": []
    },
    {
      "cell_type": "code",
      "source": [
        "from nltk.stem.porter import PorterStemmer\n",
        "import re\n",
        "\n",
        "port_stem = PorterStemmer()\n",
        "\n",
        "# Define the stemming function\n",
        "def stemming(content):\n",
        "    stemmed_content = re.sub('[^a-zA-Z]', ' ', content)  # keep only letters\n",
        "    stemmed_content = stemmed_content.lower()             # convert to lowercase\n",
        "    stemmed_content = stemmed_content.split()             # split into words\n",
        "    stemmed_content = [port_stem.stem(word) for word in stemmed_content]  # stem each word\n",
        "    return ' '.join(stemmed_content)                      # join back into string\n",
        "\n",
        "# Apply the function to your dataset\n",
        "news_dataset['content'] = news_dataset['content'].apply(stemming)\n",
        "print(news_dataset['content'])\n"
      ],
      "metadata": {
        "colab": {
          "base_uri": "https://localhost:8080/"
        },
        "id": "Qq1vYTWJ8rOz",
        "outputId": "fa1a8435-ad47-477b-a553-08321517fe3b"
      },
      "execution_count": null,
      "outputs": [
        {
          "output_type": "stream",
          "name": "stdout",
          "text": [
            "0       you can smell hillari s fear daniel greenfield...\n",
            "1       watch the exact moment paul ryan commit polit ...\n",
            "2       kerri to go to pari in gestur of sympathi u s ...\n",
            "3       berni support on twitter erupt in anger agains...\n",
            "4       the battl of new york whi thi primari matter i...\n",
            "                              ...                        \n",
            "6330    state depart say it can t find email from clin...\n",
            "6331    the p in pb should stand for plutocrat or pent...\n",
            "6332    anti trump protest are tool of the oligarchi i...\n",
            "6333    in ethiopia obama seek progress on peac secur ...\n",
            "6334    jeb bush is suddenli attack trump here s whi t...\n",
            "Name: content, Length: 6335, dtype: object\n"
          ]
        }
      ]
    },
    {
      "cell_type": "code",
      "source": [
        "# separat\n",
        "X = news_dataset['content'].values\n",
        "Y = news_dataset['label'].values\n",
        "print(X)\n",
        "print(Y)"
      ],
      "metadata": {
        "colab": {
          "base_uri": "https://localhost:8080/"
        },
        "id": "kKaWg6J29yFH",
        "outputId": "cf932e72-b3a0-43c3-8f7d-5771d700a706"
      },
      "execution_count": null,
      "outputs": [
        {
          "output_type": "stream",
          "name": "stdout",
          "text": [
            "['you can smell hillari s fear daniel greenfield a shillman journal fellow at the freedom center is a new york writer focu on radic islam in the final stretch of the elect hillari rodham clinton ha gone to war with the fbi the word unprec ha been thrown around so often thi elect that it ought to be retir but it s still unprec for the nomin of a major polit parti to go war with the fbi but that s exactli what hillari and her peopl have done coma patient just wake up now and watch an hour of cnn from their hospit bed would assum that fbi director jame comey is hillari s oppon in thi elect the fbi is under attack by everyon from obama to cnn hillari s peopl have circul a letter attack comey there are current more media hit piec lambast him than target trump it wouldn t be too surpri if the clinton or their alli were to start run attack ad against the fbi the fbi s leadership is be warn that the entir left wing establish will form a lynch mob if they continu go after hillari and the fbi s credibl is be attack by the media and the democrat to preemptiv head off the result of the investig of the clinton foundat and hillari clinton the covert struggl between fbi agent and obama s doj peopl ha gone explo public the new york time ha compar comey to j edgar hoover it bizarr headlin jame comey role recal hoover s fbi fairli or not practic admit up front that it s spout nonsen the boston globe ha publish a column call for comey s resign not to be outdon time ha an editori claim that the scandal is realli an attack on all women jame carvil appear on msnbc to remind everyon that he wa still aliv and insan he accu comey of coordin with hou republican and the kgb and you thought the vast right wing conspiraci wa a stretch countless media stori charg comey with violat procedur do you know what s a procedur violat email classifi inform store on your bathroom server senat harri reid ha sent comey a letter accu him of violat the hatch act the hatch act is a nice idea that ha as much relev in the age of obama as the tenth amend but the cabl news spectrum quickli fill with media hack glanc at the wikipedia articl on the hatch act under the tabl while accu the fbi director of one of the most awkward conspiraci against hillari ever if jame comey is realli out to hurt hillari he pick one hell of a strang way to do it not too long ago democrat were breath a sigh of relief when he gave hillari clinton a pass in a promin public statement if he realli were out to elect trump by keep the email scandal go whi did he trash the investig wa he on the payrol of hou republican and the kgb back then and play it coy or wa it a sudden develop where vladimir putin and paul ryan talk him into take a look at anthoni weiner s comput either comey is the most cun fbi director that ever live or he s just awkwardli tri to navig a polit mess that ha trap him between a doj leadership whose polit futur are tie to hillari s victori and hi own bureau whose apolit agent just want to be allow to do their job the onli truli mysteri thing is whi hillari and her associ decid to go to war with a respect feder agenc most american like the fbi while hillari clinton enjoy a unfavor rate and it s an interest question hillari s old strategi wa to lie and deni that the fbi even had a crimin investig underway instead her associ insist that it wa a secur review the fbi correct her and she shrug it off but the old breezi denial approach ha given way to a savag assault on the fbi pretend that noth wa wrong wa a bad strategi but it wa a better one that pick a fight with the fbi while lunat clinton associ tri to claim that the fbi is realli the kgb there are two possibl explan hillari clinton might be arrog enough to lash out at the fbi now that she believ that victori is near the same kind of hubri that led her to plan her victori firework display could lead her to declar a war on the fbi for irrit her dure the final mile of her campaign but the other explan is that her peopl panick go to war with the fbi is not the behavior of a smart and focu presidenti campaign it s an act of desper when a presidenti candid decid that her onli option is to tri and destroy the credibl of the fbi that s not hubri it s fear of what the fbi might be about to reveal about her dure the origin fbi investig hillari clinton wa confid that she could ride it out and she had good reason for believ that but that hillari clinton is gone in her place is a paranoid wreck within a short space of time the posit clinton campaign promi to unit the countri ha been replac by a desper and flail oper that ha focu all it energi on fight the fbi there s onli one reason for such bizarr behavior the clinton campaign ha decid that an fbi investig of the latest batch of email pose a threat to it surviv and so it s gone all in on fight the fbi it s an unprec step born of fear it s hard to know whether that fear is justifi but the exist of that fear alreadi tell us a whole lot clinton loyalist rig the old investig they knew the outcom ahead of time as well as they knew the debat question now suddenli they are no longer in control and they are afraid you can smell the fear the fbi ha wiretap from the investig of the clinton foundat it s find new email all the time and clintonworld panick the spinmeist of clintonworld have claim that the email scandal is just so much smoke without fire all that s here is the appear of improprieti without ani of the substanc but thi isn t how you react to smoke it s how you respond to a fire the misguid assault on the fbi tell us that hillari clinton and her alli are afraid of a revel bigger than the fundament illeg of her email setup the email setup wa a preemptiv cover up the clinton campaign ha panick badli out of the belief right or wrong that whatev crime the illeg setup wa meant to cover up is at risk of be expo the clinton have weather countless scandal over the year whatev they are protect thi time around is bigger than the usual corrupt briberi sexual assault and abu of power that have follow them around throughout the year thi is bigger and more damag than ani of the alleg that have alreadi come out and they don t want fbi investig anywh near it the campaign against comey is pure intimid it s also a warn ani senior fbi peopl who valu their career are be warn to stay away the democrat are close rank around their nomin against the fbi it s an ugli and unprec scene it may also be their last stand hillari clinton ha awkwardli wound her way through numer scandal in just thi elect cycl but she s never shown fear or desper befor now that ha chang whatev she is afraid of it lie buri in her email with huma abedin and it can bring her down like noth el ha'\n",
            " 'watch the exact moment paul ryan commit polit suicid at a trump ralli video googl pinterest digg linkedin reddit stumbleupon print delici pocket tumblr there are two fundament truth in thi world paul ryan desper want to be presid and paul ryan will never be presid today prove it in a particularli stagger exampl of polit coward paul ryan re re re rever cour and announc that he wa back on the trump train after all thi wa an aboutfac from where he wa a few week ago he had previou declar he would not be support or defend trump after a tape wa made public in which trump brag about assault women suddenli ryan wa appear at a pro trump ralli and boldli declar that he alreadi sent in hi vote to make him presid of the unit state it wa a surreal moment the figurehead of the republican parti dose himself in gasolin got up on a stage on a chilli afternoon in wisconsin and lit a match speakerryan say he vote for realdonaldtrump republican it is time to come home http t co vytt yvoe pic twitter com wcvscg a i abc news polit abcpolit novemb the democrat parti couldn t have ask for a better moment of film ryan s chanc of ever becom presid went down to zero in an instant in the wreckag trump is to leav behind in hi wake those who cravenli back hi campaign will not recov if ryan s career manag to limp all the way to then the dnc will have thi tape lock and load to be use in everi ad until elect day the ring endor of the man he clearli hate on a person level speak volum about hi own spineless ryan ha postur himself as a principl conserv and one uncomfort with trump s unapologet bigotri and sexism howev when push came to shove paul ryan like mani of hi colleagu turn into a snivel appea after all hi lofti tak about convict hi principl were a hou of card and collap with the slightest breez what s especi bizarr is how close ryan came to make it through unscath for month the speaker of the hou refu to comment on trump at all hi strategi seem to be to keep hi head down pretend trump didn t exist and hope that nobodi rememb what happen in now just day away from the elect he screw it all up if s veri ugli elect ha done ani good it s by expo the utter coward of the republican who onc feign moral courag a realiti televi star spit on them hijack their parti insult their wive and got everi last one of them to kneel befor him what a turn of event featur imag via twitter'\n",
            " 'kerri to go to pari in gestur of sympathi u s secretari of state john f kerri said monday that he will stop in pari later thi week amid critic that no top american offici attend sunday s uniti march against terror kerri said he expect to arriv in pari thursday even as he head home after a week abroad he said he will fli to franc at the conclu of a seri of meet schedul for thursday in sofia bulgaria he plan to meet the next day with foreign minist laurent fabiu and presid francoi holland then return to washington the visit by kerri who ha famili and childhood tie to the countri and speak fluent french could address some of the critic that the unit state snub franc in it darkest hour in mani year the french press on monday wa fill with question about whi neither presid obama nor kerri attend sunday s march as about leader of other nation did obama wa said to have stay away becau hi own secur need can be tax on a countri and kerri had prior commit among roughli leader who did attend wa isra prime minist benjamin netanyahu no stranger to inten secur who march besid holland through the citi street the highest rank u s offici attend the march were jane hartley the ambassador to franc and victoria nuland the assist secretari of state for european affair attorney gener eric h holder jr wa in pari for meet with law enforc offici but did not particip in the march kerri spent sunday at a busi summit host by india s prime minist narendra modi the unit state is eager for india to relax stringent law that function as barrier to foreign invest and hope modi s govern will act to open the huge indian market for more american busi in a news confer kerri brush asid critic that the unit state had not sent a more senior offici to pari as quibbl a littl bit he note that mani staffer of the american embassi in pari attend the march includ the ambassador he said he had want to be present at the march himself but could not becau of hi prior commit in india but that is whi i am go there on the way home to make it crystal clear how passion we feel about the event that have taken place there he said and i don t think the peopl of franc have ani doubt about america s understand of what happen of our person sen of loss and our deep commit to the peopl of franc in thi moment of trauma'\n",
            " ...\n",
            " 'anti trump protest are tool of the oligarchi inform anti trump protest are tool of the oligarchi reform alway provok rage on the part of those who profit by the old order arthur m schlese jr the crisi of the old order by paul craig robert who are the anti trump protest besmirch the name of progress by pretend to be progress and by refu to accept the outcom of the presidenti elect they look like and are act wor than the white trash that they are denounc i think i know who they are they are thug for hire and are paid by the oligarchi to delegitim trump s presid in the way that washington and the german marshal fund paid student in kiev to protest the democrat elect ukrainian govern in order to prepar the way for a coup the organ chang org which claim to be a progress group but might be a front along with other progress group for the oligarchi is destroy the reput of all progress by circul a petit that direct the elector of the elector collag to annul the elect by cast their vote for hillari rememb how upset progress were when trump said he might not accept the elect result if there wa evid that the vote wa rig now progress are do what they damn trump for say he might do under certain condit the western presstitut use the protest in kiev to delegitim a democrat elect govern and to set it up for a coup the protest pay wa good enough that non ukrainian came from nearbi countri to particip in the protest in order to collect the money at the time i post the amount paid daili to protest report came in to me from eastern and western europ from peopl who were not ukrainian but were paid to protest as if they were ukrainian the same thing is go on with the trump protest cnn report that for mani american across the countri donald trump s victori is an outcom they simpli refu to accept ten of thousand fill the street in at least us citi overnight thi is the exact report that the oligarchi desir from it presstitut and got i hope no one think that simultan protest in citi were a spontan event how did independ protest manag to come up with the same slogan and the same sign on the same night follow the elect what is the point of the protest and what interest is serv by them as the roman alway ask who benefit there is onli one answer the oligarchi and onli the oligarchi benefit trump is a threat to the oligarchi becau he intend to stop the giveaway of american job to foreign the job giveaway sanctifi by the neolib junk economist as free trade is one of the main reason for the st centuri worsen of the us incom distribut money that wa formerli paid in middl class wage and salari to american manufactur employ and colleg graduat ha been re rout to the pocket of the one percent when us corpor move their product of good and servic sold to american offshor to asian countri such as china and india their wage bill fall the money formerli paid in middl class incom goe instead into execut bonu and dividend and capit gain to sharehold the ladder of upward mobil that had made america the land of opportun were dismantl for the sole purpo of make a hand of peopl multi billionair trump is a threat to the oligarchi becau he intend peac relat with russia in order to replac the profit soviet threat the oligarchi and their neoconserv agent work overtim to recreat the russian threat by demon russia accustom to mani decad of excess profit from the profit cold war the militari secur complex wa angri when presid reagan brought the cold war to an end befor these leach on american taxpay could get the cold war go again the soviet union collap as a result of a right wing coup against soviet presid mikhail gorbachev the militari secur complex and their zionist neoconserv agent cook up the war on terror to keep the money flow to the one percent but as hard as the presstitut media work to creat fear of the muslim threat even insouci american knew that the muslim did not have thousand of icbm carri power thermo nuclear weapon capabl of destroy the entireti of the unit state in a few minut neither did the muslim have the red armi capabl of overrun all of europ in a coupl of day ind the muslim haven t need an armi refug from washington s war enabl by european are overrun europ the excu for the annual trillion dollar billion militari secur budget wa miss so the oligarchi creat the new hitler in russia hillari wa the oligarchi s principl agent for heat up the new cold war hillari is the tool enrich by the oligarchi whose job as presid wa to protect and to increa the trillion dollar budget of the militari secur complex with hillari in the white hou the loot of the american taxpay in behalf of the wealth of the one percent could go forward unimp but if trump resolv the russian threat the oligarchi take an incom hit hillari s job as presid wa also to privat social secur in order that her wall street benefactor can rip off american the way that american have been rip off by the insur compani under obamacar those american who do not pay attent think mistakenli that the fbi clear hillari of violat nation secur protocol with her email practic the fbi said that hillari did violat nation secur but that it wa a result of careless or ignor she got off from indict becau the fbi conclud that she did not intent violat nation secur protocol the investig of the clinton foundat continu in other word in order to protect hillari the fbi fell back on the ancient common law rule that there can be no crime without intent see pcr and lawrenc stratton the tyranni of good intent one would think that protest if they were legitim would be celebr trump s victori he unlik hillari promi to reduc tension with power russia and we hope also with china unlik hillari trump say he is concern with the absenc of career for those veri peopl protest in the street of citi against him in other word the protest against the american peopl for elect trump as their presid are pointless the protest are happen for one reason onli the oligarchi intend to delegitim the trump presid onc presid trump is delegitim it will be easier for the oligarchi to assassin him unless the oligarchi can appoint and control trump s govern trump is a prime candid for assassin the protest against trump are suspici for anoth reason unlik hillari obama and georg w bush donald trump ha not slaughter and disloc million of peopl in seven countri send million of refug from the oligarchi s war to overrun europ trump earn hi fortun and if by hook or crook not by sell us govern influenc to foreign agent as bill and hillari did so what are the protest protest there is no answer except that they are hire to protest just as the maidan protest in kiev were hire to protest by us and german financ ngo the protest in kiev were equal pointless becau presidenti elect were onli month away if ukrainian realli believ that their presid wa conspir with russia to keep ukrain from becom a western puppet state and wish to becom a puppet state regardless of the cost the opportun to vote the govern out wa at hand the onli reason for the protest wa to orchestr a coup the us did succeed in put their agent in control of the new ukrainian govern as victoria nuland and the us ambassador in kiev confirm in their telephon conver that is avail on the internet the maidan protest were pointless except for make a coup possibl the protest were without ani doubt arrang by washington through assist secretari of state victoria nuland a neoconserv brought into the state depart by hillari clinton for the purpo of creat conflict with russia trump is be protest in order to make him vulner in the event he prove to be the threat to the oligarchi that he is thought to be trump won the presid but the oligarchi is still in power which make ani real reform difficult to achiev symbol reform can be the product of the contest between presid trump and the oligarch karl marx learn from histor experi and lenin stalin and pol pot learn from karl marx that chang cannot occur if the displac rule class is left intact after a revolut against them we have proof of thi throughout south america everi revolut by the indigen peopl ha left unmolest the spanish rule class and everi revolut ha been overthrown by collu between the rule class and washington washington ha conspir with tradit elit to remov the elect presid of hondura on a number of occa recent washington help elit evict the femal presid of argentina and brazil the presid of venezuela ecuador and bolivia are in the crosshair and are unlik to surviv washington is determin to get it hand on julian assang to achiev thi washington intend to overthrow the ecuadoran govern that in defianc of washington gave julian assang polit asylum hugo chavez had the power to exil or to extermin the spanish rule class in venezuela when the rule class particip in a cia coup against chavez but befor the cia could kill chavez the peopl and the militari forc hi relea instead of punish the crimin who would have murder him chavez let them go accord to marx lenin and stalin thi is the classic mistak of the revolutionari to reli on good will from the overthrown rule class is the certain road to the defeat of the revolut latin american ha prove itself unabl to learn thi lesson revolut cannot be conciliatori trump is a dealmak the oligarchi can permit him the sheen of success in exchang for no real chang trump is not perfect he might fail on hi own but we should back him on the two most import element in hi program to reduc tension between the major nuclear power and to halt washington s polici of permit global to destroy american econom prospect if tension between nuclear power worsen we won t be here to worri about other problem the combin of the economi hollow out by global and immigr is an econom nightmar that trump understand thi is reason to support him note some believ that trump is a ruse conduct by the oligarchi howev as hillari is the bought and paid for repr of the oligarchi such an elabor ruse is unnecessari it is prefer for the oligarchi to win on it own platform than to instal a presid on the opposit platform and then chang him around anoth sellout increa the anger of the peopl if hillari had won the oligarchi would have had the voter mandat for their platform dr paul craig robert wa assist secretari of the treasuri for econom polici and associ editor of the wall street journal he wa columnist for busi week scripp howard news servic and creator syndic he ha had mani univ appoint hi internet column have attract a worldwid follow robert latest book are the failur of laissez fair capit and econom dissolut of the west how america wa lost and the neoconserv threat to world order'\n",
            " 'in ethiopia obama seek progress on peac secur in east africa addi ababa ethiopia presid obama conven a meet with the leader of sever east african nation and the african union on monday in an effort to address the worsen situat in south sudan even as he met with ethiopia s prime minist to discuss how to strengthen human right and democrat institut here with no resolut in sight for the ongo conflict in south sudan obama brought togeth top offici from ethiopia uganda kenya sudan and the a u to chart out a strategi in the event that the latest round of peac talk fail african nation led by ethiopia have been tri to broker a peac in south sudan through the intergovern author on develop igad a region bodi and are almost readi to present a possibl compromi to the war parti the two side will have until aug to respond to the propo but administr offici have littl expect that they will accept it on monday obama prai the region leader for show extraordinari leadership in tri to address the continu situat in south sudan the group includ ethiopian prime minist hailemariam desalegn ugandan presid yoweri museveni kenyan presid uhuru kenyatta african union chairperson dlamini zuma and sudan s minist of foreign affair ibrahim ghandour thi give me and the u s deleg an opportun to learn from them what progress ha been made where there appear to be continu roadblock and how we can partner with them to make progress obama said our hope is that we can actual bring about the kind of peac that the peopl of south sudan so desper need the question of south sudan a nation that the unit state help bring into exist in after year of effort by both the georg w bush and obama administr ha vex american policymak for year in decemb south sudan presid salva kiir accu riek machar who had serv as hi vice presid of attempt a coup d etat the two had been longtim polit rival from differ ethnic group kiir is dinka machar is a nuer who had come togeth to form a govern when the countri wa first creat while tribal differ have help fuel the conflict the war ha been larg focu on control of the nation s oil field south sudan s primari sourc of revenu princeton lyman u s special envoy for sudan and south sudan from to note that when he first took over as envoy the unit state had spent billion on peacekeep and other assist for the two nation and that wa four year ago thi is a big invest he ad at thi point more than million peopl are face food shortag while roughli million are displac from their home an addit south sudan have fled across the border into neighbor countri includ ethiopia the conflict also pose a major econom problem for kenya which had major invest in south sudan befor the fight broke out the lapsset corridor project wa aim at transport oil from south sudan to the kenyan port of lamu and accord to e j hogendoorn deputi program director for africa at the intern crisi group the plan transport and infrastructur develop could have been an engin of develop for mani part of east africa unfortun of cour that s on hold becau of the war he said while obama spent part of the afternoon address a region conflict in africa he devot the rest of the day to strengthen tie with ethiopia whose allianc with the unit state date back more than a centuri but the current govern ha come under sharp critic for it treatment of polit oppon and journalist obama is the first sit u s presid to visit ethiopia in a news confer monday afternoon both obama and hailemariam said they had a frank discuss about ethiopia s human right practic and the need for improv ethiopia is africa s number two jailer of journalist accord to the committ to protect journalist and it rule parti won percent of the seat in may s parliamentari elect white hou nation secur advi susan rice ask last week whether she consid ethiopia a democraci repli with ironi one hundr percent but dure the news confer obama twice refer to the ethiopian govern as democrat elect i don t bite my tongu obama said of rai concern on these issu with ethiopia but i do so from a posit of respect hailemariam for hi part said our commit to democraci is real not skin deep but he ad later that peopl could not expect sweep reform given the fact that militari rule end just a coupl of decad ago someth ha to be understood thi is a fledgl democraci the two leader also discuss their collabor on counterterror an area in which ethiopia ha been an activ leader the white hou announc monday it will work with congress to provid approxim million thi year in new train equip and capac build aid to it african alli the administr also said it would provid at least million in assist thi fiscal year to combat violent extrem in east africa the money is intend to foster collabor among secur forc law enforc govern offici commun leader and member of civil societi offici said obama prai ethiopia s work to curb extremist activ but note that it govern had label some opposit group as pose a greater threat than u s intellig would indic our intellig indic while they may oppo the govern they have not tip into terror he said the unit state provid more than million in assist to ethiopia annual the vast bulk of that million come from the u s agenc for intern develop while the rest is larg secur relat last fiscal year nearli million went to health program while million went to humanitarian aid obama said ethiopia ha proven itself a global leader on develop and over the past year ha lift million of peopl out of poverti to mani peopl around the world their imag of ethiopia remain stuck in the past rememb drought and famin he said the two leader appear to have a friendli rapport throughout the news confer hailemariam describ hi countri as score a seri of first along with be the cradl of mankind he said ethiopia is the birthplac of coff that elicit a smile from obama obama said he wa impress by the ethiopian s unusu pet i had a chanc to see the famou lion that live on the ground he said i m consid get some for the white hou but he conc that befor he did that i ll have to make sure my dog are safe'\n",
            " 'jeb bush is suddenli attack trump here s whi that matter jeb bush is suddenli attack trump here s whi that matter jeb bush isn t pull punch anymor when it come to donald trump the former florida governor ha delic danc around the billionair businessman in the presidenti primari so far but the glove came off thi week when bush call out trump as a closet democrat he wa tri to stunt trump s rise while attempt to recov hi own polit mojo what jeb is desper tri to do is find hi swagger right now gop strategist ford o connel said the knock against jeb is that he s low voltag and not will to fight the best way to shake those percept it to engag against the person who is in the media on a loop it s a chang from bush s approach to thi point he hasn t lob mani direct attack at trump other than delic condemn hi critic of arizona sen john mccain s war servic and hi attack against fox news megyn kelli even in thi month s first debat bush swat down a stori that he had allegedli call trump a buffoon and a clown say onli that trump s languag had been divi trump call bush a true gentleman the detent end thi week so far most of the top tier candid have avoid directli attack trump treat him with kid glove so as not to anger the part of the gop base to which trump appeal in other word the veri voter they need when they hope trump fade in split screen new hampshir town hall thi week bush and trump volley attack on each other bush took hi most point jab at the current front runner underscor trump s past histori as a democrat and the liber posit he use to hold mr trump doesn t have a proven conserv record bush said accord to the washington post he wa a democrat longer in the last decad than he wa a republican he ha given more money to democrat than he s given to republican bush went on to attack trump over hi hard line immigr propo argu it wa not just vitriol but would have a massiv price tag hundr of billion of dollar of cost to implement hi plan is not a conserv plan bush said thi is go to be my pitch let s support someon who you don t have to guess where he stand becau he s consist becau he s been governor he s consist had the view that he ha over the next few day bush continu the hit on social media but trump never one to miss a moment to retali didn t pull hi punch either at hi own town hall wednesday trump blast bush as an unelect low energi person you know what s happen to jeb s crowd just down the street they re sleep trump said to applau sinc then trump ha also ramp up hi attack against bush on twitter the move to more hot rhetor may have trip bush up though consid hi use of the phrase anchor babi while immigr reform is someth bush is passion about and ha even written a book about he s often critic within the gop as too liber on the issu instead a more comb bush appear to use the load phrase for the first time he wa left struggl to defend hi use of it it may have been a signal that the attack dog crouch he s take is still one that isn t complet comfort to bush who earlier said he want to campaign joy other candid have embrac hit trump kentucki sen rand paul went after him forc in the debat though hi punch that trump wa hedg hi bet to support hillari clinton if she win the presid didn t appear to land other candid like ohio gov john kasich demur in the earlier gop debat that night former texa gov rick perri and businesswoman carli fiorina also jab at trump bush though need to close the floodgat he s drop in nation poll as trump ha risen and in new hampshir where bush onc led trump and even newcom kasich have seen surg cullen a former new hampshir gop chairman said the chang in tone and tactic wa a smart move for bush one that could help him in the granit state i think it s good polit for jeb said fergu cullen a former new hampshir republican parti chairman there s percent of the republican who are entertain by donald trump but there s percent of the parti who say they won t vote for him under ani circumst those aren t jeb bush s peopl to begin with he s tri to appeal to the other percent by be the adult in the room and tri to govern o connel agr he point out that even if thi new approach is one that s uncomfort for bush it s necessari in a lot of elect be the studiou one would have work he said but trump ha flip the script']\n",
            "['FAKE' 'FAKE' 'REAL' ... 'FAKE' 'REAL' 'REAL']\n"
          ]
        }
      ]
    },
    {
      "cell_type": "code",
      "source": [
        "print(X)"
      ],
      "metadata": {
        "colab": {
          "base_uri": "https://localhost:8080/"
        },
        "id": "K3ucdge1-bZy",
        "outputId": "ee4e6a94-082a-4c18-b1a0-cad80bafd402"
      },
      "execution_count": null,
      "outputs": [
        {
          "output_type": "stream",
          "name": "stdout",
          "text": [
            "['you can smell hillari s fear daniel greenfield a shillman journal fellow at the freedom center is a new york writer focu on radic islam in the final stretch of the elect hillari rodham clinton ha gone to war with the fbi the word unprec ha been thrown around so often thi elect that it ought to be retir but it s still unprec for the nomin of a major polit parti to go war with the fbi but that s exactli what hillari and her peopl have done coma patient just wake up now and watch an hour of cnn from their hospit bed would assum that fbi director jame comey is hillari s oppon in thi elect the fbi is under attack by everyon from obama to cnn hillari s peopl have circul a letter attack comey there are current more media hit piec lambast him than target trump it wouldn t be too surpri if the clinton or their alli were to start run attack ad against the fbi the fbi s leadership is be warn that the entir left wing establish will form a lynch mob if they continu go after hillari and the fbi s credibl is be attack by the media and the democrat to preemptiv head off the result of the investig of the clinton foundat and hillari clinton the covert struggl between fbi agent and obama s doj peopl ha gone explo public the new york time ha compar comey to j edgar hoover it bizarr headlin jame comey role recal hoover s fbi fairli or not practic admit up front that it s spout nonsen the boston globe ha publish a column call for comey s resign not to be outdon time ha an editori claim that the scandal is realli an attack on all women jame carvil appear on msnbc to remind everyon that he wa still aliv and insan he accu comey of coordin with hou republican and the kgb and you thought the vast right wing conspiraci wa a stretch countless media stori charg comey with violat procedur do you know what s a procedur violat email classifi inform store on your bathroom server senat harri reid ha sent comey a letter accu him of violat the hatch act the hatch act is a nice idea that ha as much relev in the age of obama as the tenth amend but the cabl news spectrum quickli fill with media hack glanc at the wikipedia articl on the hatch act under the tabl while accu the fbi director of one of the most awkward conspiraci against hillari ever if jame comey is realli out to hurt hillari he pick one hell of a strang way to do it not too long ago democrat were breath a sigh of relief when he gave hillari clinton a pass in a promin public statement if he realli were out to elect trump by keep the email scandal go whi did he trash the investig wa he on the payrol of hou republican and the kgb back then and play it coy or wa it a sudden develop where vladimir putin and paul ryan talk him into take a look at anthoni weiner s comput either comey is the most cun fbi director that ever live or he s just awkwardli tri to navig a polit mess that ha trap him between a doj leadership whose polit futur are tie to hillari s victori and hi own bureau whose apolit agent just want to be allow to do their job the onli truli mysteri thing is whi hillari and her associ decid to go to war with a respect feder agenc most american like the fbi while hillari clinton enjoy a unfavor rate and it s an interest question hillari s old strategi wa to lie and deni that the fbi even had a crimin investig underway instead her associ insist that it wa a secur review the fbi correct her and she shrug it off but the old breezi denial approach ha given way to a savag assault on the fbi pretend that noth wa wrong wa a bad strategi but it wa a better one that pick a fight with the fbi while lunat clinton associ tri to claim that the fbi is realli the kgb there are two possibl explan hillari clinton might be arrog enough to lash out at the fbi now that she believ that victori is near the same kind of hubri that led her to plan her victori firework display could lead her to declar a war on the fbi for irrit her dure the final mile of her campaign but the other explan is that her peopl panick go to war with the fbi is not the behavior of a smart and focu presidenti campaign it s an act of desper when a presidenti candid decid that her onli option is to tri and destroy the credibl of the fbi that s not hubri it s fear of what the fbi might be about to reveal about her dure the origin fbi investig hillari clinton wa confid that she could ride it out and she had good reason for believ that but that hillari clinton is gone in her place is a paranoid wreck within a short space of time the posit clinton campaign promi to unit the countri ha been replac by a desper and flail oper that ha focu all it energi on fight the fbi there s onli one reason for such bizarr behavior the clinton campaign ha decid that an fbi investig of the latest batch of email pose a threat to it surviv and so it s gone all in on fight the fbi it s an unprec step born of fear it s hard to know whether that fear is justifi but the exist of that fear alreadi tell us a whole lot clinton loyalist rig the old investig they knew the outcom ahead of time as well as they knew the debat question now suddenli they are no longer in control and they are afraid you can smell the fear the fbi ha wiretap from the investig of the clinton foundat it s find new email all the time and clintonworld panick the spinmeist of clintonworld have claim that the email scandal is just so much smoke without fire all that s here is the appear of improprieti without ani of the substanc but thi isn t how you react to smoke it s how you respond to a fire the misguid assault on the fbi tell us that hillari clinton and her alli are afraid of a revel bigger than the fundament illeg of her email setup the email setup wa a preemptiv cover up the clinton campaign ha panick badli out of the belief right or wrong that whatev crime the illeg setup wa meant to cover up is at risk of be expo the clinton have weather countless scandal over the year whatev they are protect thi time around is bigger than the usual corrupt briberi sexual assault and abu of power that have follow them around throughout the year thi is bigger and more damag than ani of the alleg that have alreadi come out and they don t want fbi investig anywh near it the campaign against comey is pure intimid it s also a warn ani senior fbi peopl who valu their career are be warn to stay away the democrat are close rank around their nomin against the fbi it s an ugli and unprec scene it may also be their last stand hillari clinton ha awkwardli wound her way through numer scandal in just thi elect cycl but she s never shown fear or desper befor now that ha chang whatev she is afraid of it lie buri in her email with huma abedin and it can bring her down like noth el ha'\n",
            " 'watch the exact moment paul ryan commit polit suicid at a trump ralli video googl pinterest digg linkedin reddit stumbleupon print delici pocket tumblr there are two fundament truth in thi world paul ryan desper want to be presid and paul ryan will never be presid today prove it in a particularli stagger exampl of polit coward paul ryan re re re rever cour and announc that he wa back on the trump train after all thi wa an aboutfac from where he wa a few week ago he had previou declar he would not be support or defend trump after a tape wa made public in which trump brag about assault women suddenli ryan wa appear at a pro trump ralli and boldli declar that he alreadi sent in hi vote to make him presid of the unit state it wa a surreal moment the figurehead of the republican parti dose himself in gasolin got up on a stage on a chilli afternoon in wisconsin and lit a match speakerryan say he vote for realdonaldtrump republican it is time to come home http t co vytt yvoe pic twitter com wcvscg a i abc news polit abcpolit novemb the democrat parti couldn t have ask for a better moment of film ryan s chanc of ever becom presid went down to zero in an instant in the wreckag trump is to leav behind in hi wake those who cravenli back hi campaign will not recov if ryan s career manag to limp all the way to then the dnc will have thi tape lock and load to be use in everi ad until elect day the ring endor of the man he clearli hate on a person level speak volum about hi own spineless ryan ha postur himself as a principl conserv and one uncomfort with trump s unapologet bigotri and sexism howev when push came to shove paul ryan like mani of hi colleagu turn into a snivel appea after all hi lofti tak about convict hi principl were a hou of card and collap with the slightest breez what s especi bizarr is how close ryan came to make it through unscath for month the speaker of the hou refu to comment on trump at all hi strategi seem to be to keep hi head down pretend trump didn t exist and hope that nobodi rememb what happen in now just day away from the elect he screw it all up if s veri ugli elect ha done ani good it s by expo the utter coward of the republican who onc feign moral courag a realiti televi star spit on them hijack their parti insult their wive and got everi last one of them to kneel befor him what a turn of event featur imag via twitter'\n",
            " 'kerri to go to pari in gestur of sympathi u s secretari of state john f kerri said monday that he will stop in pari later thi week amid critic that no top american offici attend sunday s uniti march against terror kerri said he expect to arriv in pari thursday even as he head home after a week abroad he said he will fli to franc at the conclu of a seri of meet schedul for thursday in sofia bulgaria he plan to meet the next day with foreign minist laurent fabiu and presid francoi holland then return to washington the visit by kerri who ha famili and childhood tie to the countri and speak fluent french could address some of the critic that the unit state snub franc in it darkest hour in mani year the french press on monday wa fill with question about whi neither presid obama nor kerri attend sunday s march as about leader of other nation did obama wa said to have stay away becau hi own secur need can be tax on a countri and kerri had prior commit among roughli leader who did attend wa isra prime minist benjamin netanyahu no stranger to inten secur who march besid holland through the citi street the highest rank u s offici attend the march were jane hartley the ambassador to franc and victoria nuland the assist secretari of state for european affair attorney gener eric h holder jr wa in pari for meet with law enforc offici but did not particip in the march kerri spent sunday at a busi summit host by india s prime minist narendra modi the unit state is eager for india to relax stringent law that function as barrier to foreign invest and hope modi s govern will act to open the huge indian market for more american busi in a news confer kerri brush asid critic that the unit state had not sent a more senior offici to pari as quibbl a littl bit he note that mani staffer of the american embassi in pari attend the march includ the ambassador he said he had want to be present at the march himself but could not becau of hi prior commit in india but that is whi i am go there on the way home to make it crystal clear how passion we feel about the event that have taken place there he said and i don t think the peopl of franc have ani doubt about america s understand of what happen of our person sen of loss and our deep commit to the peopl of franc in thi moment of trauma'\n",
            " ...\n",
            " 'anti trump protest are tool of the oligarchi inform anti trump protest are tool of the oligarchi reform alway provok rage on the part of those who profit by the old order arthur m schlese jr the crisi of the old order by paul craig robert who are the anti trump protest besmirch the name of progress by pretend to be progress and by refu to accept the outcom of the presidenti elect they look like and are act wor than the white trash that they are denounc i think i know who they are they are thug for hire and are paid by the oligarchi to delegitim trump s presid in the way that washington and the german marshal fund paid student in kiev to protest the democrat elect ukrainian govern in order to prepar the way for a coup the organ chang org which claim to be a progress group but might be a front along with other progress group for the oligarchi is destroy the reput of all progress by circul a petit that direct the elector of the elector collag to annul the elect by cast their vote for hillari rememb how upset progress were when trump said he might not accept the elect result if there wa evid that the vote wa rig now progress are do what they damn trump for say he might do under certain condit the western presstitut use the protest in kiev to delegitim a democrat elect govern and to set it up for a coup the protest pay wa good enough that non ukrainian came from nearbi countri to particip in the protest in order to collect the money at the time i post the amount paid daili to protest report came in to me from eastern and western europ from peopl who were not ukrainian but were paid to protest as if they were ukrainian the same thing is go on with the trump protest cnn report that for mani american across the countri donald trump s victori is an outcom they simpli refu to accept ten of thousand fill the street in at least us citi overnight thi is the exact report that the oligarchi desir from it presstitut and got i hope no one think that simultan protest in citi were a spontan event how did independ protest manag to come up with the same slogan and the same sign on the same night follow the elect what is the point of the protest and what interest is serv by them as the roman alway ask who benefit there is onli one answer the oligarchi and onli the oligarchi benefit trump is a threat to the oligarchi becau he intend to stop the giveaway of american job to foreign the job giveaway sanctifi by the neolib junk economist as free trade is one of the main reason for the st centuri worsen of the us incom distribut money that wa formerli paid in middl class wage and salari to american manufactur employ and colleg graduat ha been re rout to the pocket of the one percent when us corpor move their product of good and servic sold to american offshor to asian countri such as china and india their wage bill fall the money formerli paid in middl class incom goe instead into execut bonu and dividend and capit gain to sharehold the ladder of upward mobil that had made america the land of opportun were dismantl for the sole purpo of make a hand of peopl multi billionair trump is a threat to the oligarchi becau he intend peac relat with russia in order to replac the profit soviet threat the oligarchi and their neoconserv agent work overtim to recreat the russian threat by demon russia accustom to mani decad of excess profit from the profit cold war the militari secur complex wa angri when presid reagan brought the cold war to an end befor these leach on american taxpay could get the cold war go again the soviet union collap as a result of a right wing coup against soviet presid mikhail gorbachev the militari secur complex and their zionist neoconserv agent cook up the war on terror to keep the money flow to the one percent but as hard as the presstitut media work to creat fear of the muslim threat even insouci american knew that the muslim did not have thousand of icbm carri power thermo nuclear weapon capabl of destroy the entireti of the unit state in a few minut neither did the muslim have the red armi capabl of overrun all of europ in a coupl of day ind the muslim haven t need an armi refug from washington s war enabl by european are overrun europ the excu for the annual trillion dollar billion militari secur budget wa miss so the oligarchi creat the new hitler in russia hillari wa the oligarchi s principl agent for heat up the new cold war hillari is the tool enrich by the oligarchi whose job as presid wa to protect and to increa the trillion dollar budget of the militari secur complex with hillari in the white hou the loot of the american taxpay in behalf of the wealth of the one percent could go forward unimp but if trump resolv the russian threat the oligarchi take an incom hit hillari s job as presid wa also to privat social secur in order that her wall street benefactor can rip off american the way that american have been rip off by the insur compani under obamacar those american who do not pay attent think mistakenli that the fbi clear hillari of violat nation secur protocol with her email practic the fbi said that hillari did violat nation secur but that it wa a result of careless or ignor she got off from indict becau the fbi conclud that she did not intent violat nation secur protocol the investig of the clinton foundat continu in other word in order to protect hillari the fbi fell back on the ancient common law rule that there can be no crime without intent see pcr and lawrenc stratton the tyranni of good intent one would think that protest if they were legitim would be celebr trump s victori he unlik hillari promi to reduc tension with power russia and we hope also with china unlik hillari trump say he is concern with the absenc of career for those veri peopl protest in the street of citi against him in other word the protest against the american peopl for elect trump as their presid are pointless the protest are happen for one reason onli the oligarchi intend to delegitim the trump presid onc presid trump is delegitim it will be easier for the oligarchi to assassin him unless the oligarchi can appoint and control trump s govern trump is a prime candid for assassin the protest against trump are suspici for anoth reason unlik hillari obama and georg w bush donald trump ha not slaughter and disloc million of peopl in seven countri send million of refug from the oligarchi s war to overrun europ trump earn hi fortun and if by hook or crook not by sell us govern influenc to foreign agent as bill and hillari did so what are the protest protest there is no answer except that they are hire to protest just as the maidan protest in kiev were hire to protest by us and german financ ngo the protest in kiev were equal pointless becau presidenti elect were onli month away if ukrainian realli believ that their presid wa conspir with russia to keep ukrain from becom a western puppet state and wish to becom a puppet state regardless of the cost the opportun to vote the govern out wa at hand the onli reason for the protest wa to orchestr a coup the us did succeed in put their agent in control of the new ukrainian govern as victoria nuland and the us ambassador in kiev confirm in their telephon conver that is avail on the internet the maidan protest were pointless except for make a coup possibl the protest were without ani doubt arrang by washington through assist secretari of state victoria nuland a neoconserv brought into the state depart by hillari clinton for the purpo of creat conflict with russia trump is be protest in order to make him vulner in the event he prove to be the threat to the oligarchi that he is thought to be trump won the presid but the oligarchi is still in power which make ani real reform difficult to achiev symbol reform can be the product of the contest between presid trump and the oligarch karl marx learn from histor experi and lenin stalin and pol pot learn from karl marx that chang cannot occur if the displac rule class is left intact after a revolut against them we have proof of thi throughout south america everi revolut by the indigen peopl ha left unmolest the spanish rule class and everi revolut ha been overthrown by collu between the rule class and washington washington ha conspir with tradit elit to remov the elect presid of hondura on a number of occa recent washington help elit evict the femal presid of argentina and brazil the presid of venezuela ecuador and bolivia are in the crosshair and are unlik to surviv washington is determin to get it hand on julian assang to achiev thi washington intend to overthrow the ecuadoran govern that in defianc of washington gave julian assang polit asylum hugo chavez had the power to exil or to extermin the spanish rule class in venezuela when the rule class particip in a cia coup against chavez but befor the cia could kill chavez the peopl and the militari forc hi relea instead of punish the crimin who would have murder him chavez let them go accord to marx lenin and stalin thi is the classic mistak of the revolutionari to reli on good will from the overthrown rule class is the certain road to the defeat of the revolut latin american ha prove itself unabl to learn thi lesson revolut cannot be conciliatori trump is a dealmak the oligarchi can permit him the sheen of success in exchang for no real chang trump is not perfect he might fail on hi own but we should back him on the two most import element in hi program to reduc tension between the major nuclear power and to halt washington s polici of permit global to destroy american econom prospect if tension between nuclear power worsen we won t be here to worri about other problem the combin of the economi hollow out by global and immigr is an econom nightmar that trump understand thi is reason to support him note some believ that trump is a ruse conduct by the oligarchi howev as hillari is the bought and paid for repr of the oligarchi such an elabor ruse is unnecessari it is prefer for the oligarchi to win on it own platform than to instal a presid on the opposit platform and then chang him around anoth sellout increa the anger of the peopl if hillari had won the oligarchi would have had the voter mandat for their platform dr paul craig robert wa assist secretari of the treasuri for econom polici and associ editor of the wall street journal he wa columnist for busi week scripp howard news servic and creator syndic he ha had mani univ appoint hi internet column have attract a worldwid follow robert latest book are the failur of laissez fair capit and econom dissolut of the west how america wa lost and the neoconserv threat to world order'\n",
            " 'in ethiopia obama seek progress on peac secur in east africa addi ababa ethiopia presid obama conven a meet with the leader of sever east african nation and the african union on monday in an effort to address the worsen situat in south sudan even as he met with ethiopia s prime minist to discuss how to strengthen human right and democrat institut here with no resolut in sight for the ongo conflict in south sudan obama brought togeth top offici from ethiopia uganda kenya sudan and the a u to chart out a strategi in the event that the latest round of peac talk fail african nation led by ethiopia have been tri to broker a peac in south sudan through the intergovern author on develop igad a region bodi and are almost readi to present a possibl compromi to the war parti the two side will have until aug to respond to the propo but administr offici have littl expect that they will accept it on monday obama prai the region leader for show extraordinari leadership in tri to address the continu situat in south sudan the group includ ethiopian prime minist hailemariam desalegn ugandan presid yoweri museveni kenyan presid uhuru kenyatta african union chairperson dlamini zuma and sudan s minist of foreign affair ibrahim ghandour thi give me and the u s deleg an opportun to learn from them what progress ha been made where there appear to be continu roadblock and how we can partner with them to make progress obama said our hope is that we can actual bring about the kind of peac that the peopl of south sudan so desper need the question of south sudan a nation that the unit state help bring into exist in after year of effort by both the georg w bush and obama administr ha vex american policymak for year in decemb south sudan presid salva kiir accu riek machar who had serv as hi vice presid of attempt a coup d etat the two had been longtim polit rival from differ ethnic group kiir is dinka machar is a nuer who had come togeth to form a govern when the countri wa first creat while tribal differ have help fuel the conflict the war ha been larg focu on control of the nation s oil field south sudan s primari sourc of revenu princeton lyman u s special envoy for sudan and south sudan from to note that when he first took over as envoy the unit state had spent billion on peacekeep and other assist for the two nation and that wa four year ago thi is a big invest he ad at thi point more than million peopl are face food shortag while roughli million are displac from their home an addit south sudan have fled across the border into neighbor countri includ ethiopia the conflict also pose a major econom problem for kenya which had major invest in south sudan befor the fight broke out the lapsset corridor project wa aim at transport oil from south sudan to the kenyan port of lamu and accord to e j hogendoorn deputi program director for africa at the intern crisi group the plan transport and infrastructur develop could have been an engin of develop for mani part of east africa unfortun of cour that s on hold becau of the war he said while obama spent part of the afternoon address a region conflict in africa he devot the rest of the day to strengthen tie with ethiopia whose allianc with the unit state date back more than a centuri but the current govern ha come under sharp critic for it treatment of polit oppon and journalist obama is the first sit u s presid to visit ethiopia in a news confer monday afternoon both obama and hailemariam said they had a frank discuss about ethiopia s human right practic and the need for improv ethiopia is africa s number two jailer of journalist accord to the committ to protect journalist and it rule parti won percent of the seat in may s parliamentari elect white hou nation secur advi susan rice ask last week whether she consid ethiopia a democraci repli with ironi one hundr percent but dure the news confer obama twice refer to the ethiopian govern as democrat elect i don t bite my tongu obama said of rai concern on these issu with ethiopia but i do so from a posit of respect hailemariam for hi part said our commit to democraci is real not skin deep but he ad later that peopl could not expect sweep reform given the fact that militari rule end just a coupl of decad ago someth ha to be understood thi is a fledgl democraci the two leader also discuss their collabor on counterterror an area in which ethiopia ha been an activ leader the white hou announc monday it will work with congress to provid approxim million thi year in new train equip and capac build aid to it african alli the administr also said it would provid at least million in assist thi fiscal year to combat violent extrem in east africa the money is intend to foster collabor among secur forc law enforc govern offici commun leader and member of civil societi offici said obama prai ethiopia s work to curb extremist activ but note that it govern had label some opposit group as pose a greater threat than u s intellig would indic our intellig indic while they may oppo the govern they have not tip into terror he said the unit state provid more than million in assist to ethiopia annual the vast bulk of that million come from the u s agenc for intern develop while the rest is larg secur relat last fiscal year nearli million went to health program while million went to humanitarian aid obama said ethiopia ha proven itself a global leader on develop and over the past year ha lift million of peopl out of poverti to mani peopl around the world their imag of ethiopia remain stuck in the past rememb drought and famin he said the two leader appear to have a friendli rapport throughout the news confer hailemariam describ hi countri as score a seri of first along with be the cradl of mankind he said ethiopia is the birthplac of coff that elicit a smile from obama obama said he wa impress by the ethiopian s unusu pet i had a chanc to see the famou lion that live on the ground he said i m consid get some for the white hou but he conc that befor he did that i ll have to make sure my dog are safe'\n",
            " 'jeb bush is suddenli attack trump here s whi that matter jeb bush is suddenli attack trump here s whi that matter jeb bush isn t pull punch anymor when it come to donald trump the former florida governor ha delic danc around the billionair businessman in the presidenti primari so far but the glove came off thi week when bush call out trump as a closet democrat he wa tri to stunt trump s rise while attempt to recov hi own polit mojo what jeb is desper tri to do is find hi swagger right now gop strategist ford o connel said the knock against jeb is that he s low voltag and not will to fight the best way to shake those percept it to engag against the person who is in the media on a loop it s a chang from bush s approach to thi point he hasn t lob mani direct attack at trump other than delic condemn hi critic of arizona sen john mccain s war servic and hi attack against fox news megyn kelli even in thi month s first debat bush swat down a stori that he had allegedli call trump a buffoon and a clown say onli that trump s languag had been divi trump call bush a true gentleman the detent end thi week so far most of the top tier candid have avoid directli attack trump treat him with kid glove so as not to anger the part of the gop base to which trump appeal in other word the veri voter they need when they hope trump fade in split screen new hampshir town hall thi week bush and trump volley attack on each other bush took hi most point jab at the current front runner underscor trump s past histori as a democrat and the liber posit he use to hold mr trump doesn t have a proven conserv record bush said accord to the washington post he wa a democrat longer in the last decad than he wa a republican he ha given more money to democrat than he s given to republican bush went on to attack trump over hi hard line immigr propo argu it wa not just vitriol but would have a massiv price tag hundr of billion of dollar of cost to implement hi plan is not a conserv plan bush said thi is go to be my pitch let s support someon who you don t have to guess where he stand becau he s consist becau he s been governor he s consist had the view that he ha over the next few day bush continu the hit on social media but trump never one to miss a moment to retali didn t pull hi punch either at hi own town hall wednesday trump blast bush as an unelect low energi person you know what s happen to jeb s crowd just down the street they re sleep trump said to applau sinc then trump ha also ramp up hi attack against bush on twitter the move to more hot rhetor may have trip bush up though consid hi use of the phrase anchor babi while immigr reform is someth bush is passion about and ha even written a book about he s often critic within the gop as too liber on the issu instead a more comb bush appear to use the load phrase for the first time he wa left struggl to defend hi use of it it may have been a signal that the attack dog crouch he s take is still one that isn t complet comfort to bush who earlier said he want to campaign joy other candid have embrac hit trump kentucki sen rand paul went after him forc in the debat though hi punch that trump wa hedg hi bet to support hillari clinton if she win the presid didn t appear to land other candid like ohio gov john kasich demur in the earlier gop debat that night former texa gov rick perri and businesswoman carli fiorina also jab at trump bush though need to close the floodgat he s drop in nation poll as trump ha risen and in new hampshir where bush onc led trump and even newcom kasich have seen surg cullen a former new hampshir gop chairman said the chang in tone and tactic wa a smart move for bush one that could help him in the granit state i think it s good polit for jeb said fergu cullen a former new hampshir republican parti chairman there s percent of the republican who are entertain by donald trump but there s percent of the parti who say they won t vote for him under ani circumst those aren t jeb bush s peopl to begin with he s tri to appeal to the other percent by be the adult in the room and tri to govern o connel agr he point out that even if thi new approach is one that s uncomfort for bush it s necessari in a lot of elect be the studiou one would have work he said but trump ha flip the script']\n"
          ]
        }
      ]
    },
    {
      "cell_type": "code",
      "source": [
        "print(Y)"
      ],
      "metadata": {
        "colab": {
          "base_uri": "https://localhost:8080/"
        },
        "id": "Bw2c9qoH-eZE",
        "outputId": "9b5a623b-ff17-4720-82e8-07d04e00e047"
      },
      "execution_count": null,
      "outputs": [
        {
          "output_type": "stream",
          "name": "stdout",
          "text": [
            "['FAKE' 'FAKE' 'REAL' ... 'FAKE' 'REAL' 'REAL']\n"
          ]
        }
      ]
    },
    {
      "cell_type": "code",
      "source": [
        "Y.shape"
      ],
      "metadata": {
        "colab": {
          "base_uri": "https://localhost:8080/"
        },
        "id": "ncJxEj3Q-kHn",
        "outputId": "12f6ad8c-d1d6-4669-ef57-812f2b7c320e"
      },
      "execution_count": null,
      "outputs": [
        {
          "output_type": "execute_result",
          "data": {
            "text/plain": [
              "(6335,)"
            ]
          },
          "metadata": {},
          "execution_count": 31
        }
      ]
    },
    {
      "cell_type": "code",
      "source": [
        "# converting the texual data into numerical data\n",
        "from sklearn.feature_extraction.text import TfidfVectorizer\n",
        "vectorizer = TfidfVectorizer()\n",
        "vectorizer.fit(X)\n",
        "\n",
        "X = vectorizer.transform(X)"
      ],
      "metadata": {
        "id": "F9Ih8g9s-2FY"
      },
      "execution_count": null,
      "outputs": []
    },
    {
      "cell_type": "markdown",
      "source": [
        "Splitting the dataset to training and testing  data"
      ],
      "metadata": {
        "id": "-EunnVe9AOt8"
      }
    },
    {
      "cell_type": "code",
      "source": [
        "from sklearn.model_selection import train_test_split\n",
        "from sklearn.linear_model import LogisticRegression\n",
        "\n",
        "# Now this will work\n",
        "X_train, X_test, Y_train, Y_test = train_test_split(\n",
        "    X, Y, test_size=0.2, stratify=Y, random_state=2\n",
        ")\n"
      ],
      "metadata": {
        "id": "3ivO4ESzAilT"
      },
      "execution_count": null,
      "outputs": []
    },
    {
      "cell_type": "markdown",
      "source": [
        "Training Model : Logistic Regression"
      ],
      "metadata": {
        "id": "PNaY_8F6Ff_l"
      }
    },
    {
      "cell_type": "code",
      "source": [
        "from sklearn.linear_model import LogisticRegression\n",
        "model = LogisticRegression()"
      ],
      "metadata": {
        "id": "VrKmBzTRE-yb"
      },
      "execution_count": null,
      "outputs": []
    },
    {
      "cell_type": "code",
      "source": [
        "model.fit(X_train,Y_train)"
      ],
      "metadata": {
        "colab": {
          "base_uri": "https://localhost:8080/",
          "height": 80
        },
        "id": "LjQnRHEHLMN4",
        "outputId": "86dbed21-b22e-4d35-c2ae-31c8bc1ebb92"
      },
      "execution_count": null,
      "outputs": [
        {
          "output_type": "execute_result",
          "data": {
            "text/plain": [
              "LogisticRegression()"
            ],
            "text/html": [
              "<style>#sk-container-id-1 {\n",
              "  /* Definition of color scheme common for light and dark mode */\n",
              "  --sklearn-color-text: #000;\n",
              "  --sklearn-color-text-muted: #666;\n",
              "  --sklearn-color-line: gray;\n",
              "  /* Definition of color scheme for unfitted estimators */\n",
              "  --sklearn-color-unfitted-level-0: #fff5e6;\n",
              "  --sklearn-color-unfitted-level-1: #f6e4d2;\n",
              "  --sklearn-color-unfitted-level-2: #ffe0b3;\n",
              "  --sklearn-color-unfitted-level-3: chocolate;\n",
              "  /* Definition of color scheme for fitted estimators */\n",
              "  --sklearn-color-fitted-level-0: #f0f8ff;\n",
              "  --sklearn-color-fitted-level-1: #d4ebff;\n",
              "  --sklearn-color-fitted-level-2: #b3dbfd;\n",
              "  --sklearn-color-fitted-level-3: cornflowerblue;\n",
              "\n",
              "  /* Specific color for light theme */\n",
              "  --sklearn-color-text-on-default-background: var(--sg-text-color, var(--theme-code-foreground, var(--jp-content-font-color1, black)));\n",
              "  --sklearn-color-background: var(--sg-background-color, var(--theme-background, var(--jp-layout-color0, white)));\n",
              "  --sklearn-color-border-box: var(--sg-text-color, var(--theme-code-foreground, var(--jp-content-font-color1, black)));\n",
              "  --sklearn-color-icon: #696969;\n",
              "\n",
              "  @media (prefers-color-scheme: dark) {\n",
              "    /* Redefinition of color scheme for dark theme */\n",
              "    --sklearn-color-text-on-default-background: var(--sg-text-color, var(--theme-code-foreground, var(--jp-content-font-color1, white)));\n",
              "    --sklearn-color-background: var(--sg-background-color, var(--theme-background, var(--jp-layout-color0, #111)));\n",
              "    --sklearn-color-border-box: var(--sg-text-color, var(--theme-code-foreground, var(--jp-content-font-color1, white)));\n",
              "    --sklearn-color-icon: #878787;\n",
              "  }\n",
              "}\n",
              "\n",
              "#sk-container-id-1 {\n",
              "  color: var(--sklearn-color-text);\n",
              "}\n",
              "\n",
              "#sk-container-id-1 pre {\n",
              "  padding: 0;\n",
              "}\n",
              "\n",
              "#sk-container-id-1 input.sk-hidden--visually {\n",
              "  border: 0;\n",
              "  clip: rect(1px 1px 1px 1px);\n",
              "  clip: rect(1px, 1px, 1px, 1px);\n",
              "  height: 1px;\n",
              "  margin: -1px;\n",
              "  overflow: hidden;\n",
              "  padding: 0;\n",
              "  position: absolute;\n",
              "  width: 1px;\n",
              "}\n",
              "\n",
              "#sk-container-id-1 div.sk-dashed-wrapped {\n",
              "  border: 1px dashed var(--sklearn-color-line);\n",
              "  margin: 0 0.4em 0.5em 0.4em;\n",
              "  box-sizing: border-box;\n",
              "  padding-bottom: 0.4em;\n",
              "  background-color: var(--sklearn-color-background);\n",
              "}\n",
              "\n",
              "#sk-container-id-1 div.sk-container {\n",
              "  /* jupyter's `normalize.less` sets `[hidden] { display: none; }`\n",
              "     but bootstrap.min.css set `[hidden] { display: none !important; }`\n",
              "     so we also need the `!important` here to be able to override the\n",
              "     default hidden behavior on the sphinx rendered scikit-learn.org.\n",
              "     See: https://github.com/scikit-learn/scikit-learn/issues/21755 */\n",
              "  display: inline-block !important;\n",
              "  position: relative;\n",
              "}\n",
              "\n",
              "#sk-container-id-1 div.sk-text-repr-fallback {\n",
              "  display: none;\n",
              "}\n",
              "\n",
              "div.sk-parallel-item,\n",
              "div.sk-serial,\n",
              "div.sk-item {\n",
              "  /* draw centered vertical line to link estimators */\n",
              "  background-image: linear-gradient(var(--sklearn-color-text-on-default-background), var(--sklearn-color-text-on-default-background));\n",
              "  background-size: 2px 100%;\n",
              "  background-repeat: no-repeat;\n",
              "  background-position: center center;\n",
              "}\n",
              "\n",
              "/* Parallel-specific style estimator block */\n",
              "\n",
              "#sk-container-id-1 div.sk-parallel-item::after {\n",
              "  content: \"\";\n",
              "  width: 100%;\n",
              "  border-bottom: 2px solid var(--sklearn-color-text-on-default-background);\n",
              "  flex-grow: 1;\n",
              "}\n",
              "\n",
              "#sk-container-id-1 div.sk-parallel {\n",
              "  display: flex;\n",
              "  align-items: stretch;\n",
              "  justify-content: center;\n",
              "  background-color: var(--sklearn-color-background);\n",
              "  position: relative;\n",
              "}\n",
              "\n",
              "#sk-container-id-1 div.sk-parallel-item {\n",
              "  display: flex;\n",
              "  flex-direction: column;\n",
              "}\n",
              "\n",
              "#sk-container-id-1 div.sk-parallel-item:first-child::after {\n",
              "  align-self: flex-end;\n",
              "  width: 50%;\n",
              "}\n",
              "\n",
              "#sk-container-id-1 div.sk-parallel-item:last-child::after {\n",
              "  align-self: flex-start;\n",
              "  width: 50%;\n",
              "}\n",
              "\n",
              "#sk-container-id-1 div.sk-parallel-item:only-child::after {\n",
              "  width: 0;\n",
              "}\n",
              "\n",
              "/* Serial-specific style estimator block */\n",
              "\n",
              "#sk-container-id-1 div.sk-serial {\n",
              "  display: flex;\n",
              "  flex-direction: column;\n",
              "  align-items: center;\n",
              "  background-color: var(--sklearn-color-background);\n",
              "  padding-right: 1em;\n",
              "  padding-left: 1em;\n",
              "}\n",
              "\n",
              "\n",
              "/* Toggleable style: style used for estimator/Pipeline/ColumnTransformer box that is\n",
              "clickable and can be expanded/collapsed.\n",
              "- Pipeline and ColumnTransformer use this feature and define the default style\n",
              "- Estimators will overwrite some part of the style using the `sk-estimator` class\n",
              "*/\n",
              "\n",
              "/* Pipeline and ColumnTransformer style (default) */\n",
              "\n",
              "#sk-container-id-1 div.sk-toggleable {\n",
              "  /* Default theme specific background. It is overwritten whether we have a\n",
              "  specific estimator or a Pipeline/ColumnTransformer */\n",
              "  background-color: var(--sklearn-color-background);\n",
              "}\n",
              "\n",
              "/* Toggleable label */\n",
              "#sk-container-id-1 label.sk-toggleable__label {\n",
              "  cursor: pointer;\n",
              "  display: flex;\n",
              "  width: 100%;\n",
              "  margin-bottom: 0;\n",
              "  padding: 0.5em;\n",
              "  box-sizing: border-box;\n",
              "  text-align: center;\n",
              "  align-items: start;\n",
              "  justify-content: space-between;\n",
              "  gap: 0.5em;\n",
              "}\n",
              "\n",
              "#sk-container-id-1 label.sk-toggleable__label .caption {\n",
              "  font-size: 0.6rem;\n",
              "  font-weight: lighter;\n",
              "  color: var(--sklearn-color-text-muted);\n",
              "}\n",
              "\n",
              "#sk-container-id-1 label.sk-toggleable__label-arrow:before {\n",
              "  /* Arrow on the left of the label */\n",
              "  content: \"▸\";\n",
              "  float: left;\n",
              "  margin-right: 0.25em;\n",
              "  color: var(--sklearn-color-icon);\n",
              "}\n",
              "\n",
              "#sk-container-id-1 label.sk-toggleable__label-arrow:hover:before {\n",
              "  color: var(--sklearn-color-text);\n",
              "}\n",
              "\n",
              "/* Toggleable content - dropdown */\n",
              "\n",
              "#sk-container-id-1 div.sk-toggleable__content {\n",
              "  max-height: 0;\n",
              "  max-width: 0;\n",
              "  overflow: hidden;\n",
              "  text-align: left;\n",
              "  /* unfitted */\n",
              "  background-color: var(--sklearn-color-unfitted-level-0);\n",
              "}\n",
              "\n",
              "#sk-container-id-1 div.sk-toggleable__content.fitted {\n",
              "  /* fitted */\n",
              "  background-color: var(--sklearn-color-fitted-level-0);\n",
              "}\n",
              "\n",
              "#sk-container-id-1 div.sk-toggleable__content pre {\n",
              "  margin: 0.2em;\n",
              "  border-radius: 0.25em;\n",
              "  color: var(--sklearn-color-text);\n",
              "  /* unfitted */\n",
              "  background-color: var(--sklearn-color-unfitted-level-0);\n",
              "}\n",
              "\n",
              "#sk-container-id-1 div.sk-toggleable__content.fitted pre {\n",
              "  /* unfitted */\n",
              "  background-color: var(--sklearn-color-fitted-level-0);\n",
              "}\n",
              "\n",
              "#sk-container-id-1 input.sk-toggleable__control:checked~div.sk-toggleable__content {\n",
              "  /* Expand drop-down */\n",
              "  max-height: 200px;\n",
              "  max-width: 100%;\n",
              "  overflow: auto;\n",
              "}\n",
              "\n",
              "#sk-container-id-1 input.sk-toggleable__control:checked~label.sk-toggleable__label-arrow:before {\n",
              "  content: \"▾\";\n",
              "}\n",
              "\n",
              "/* Pipeline/ColumnTransformer-specific style */\n",
              "\n",
              "#sk-container-id-1 div.sk-label input.sk-toggleable__control:checked~label.sk-toggleable__label {\n",
              "  color: var(--sklearn-color-text);\n",
              "  background-color: var(--sklearn-color-unfitted-level-2);\n",
              "}\n",
              "\n",
              "#sk-container-id-1 div.sk-label.fitted input.sk-toggleable__control:checked~label.sk-toggleable__label {\n",
              "  background-color: var(--sklearn-color-fitted-level-2);\n",
              "}\n",
              "\n",
              "/* Estimator-specific style */\n",
              "\n",
              "/* Colorize estimator box */\n",
              "#sk-container-id-1 div.sk-estimator input.sk-toggleable__control:checked~label.sk-toggleable__label {\n",
              "  /* unfitted */\n",
              "  background-color: var(--sklearn-color-unfitted-level-2);\n",
              "}\n",
              "\n",
              "#sk-container-id-1 div.sk-estimator.fitted input.sk-toggleable__control:checked~label.sk-toggleable__label {\n",
              "  /* fitted */\n",
              "  background-color: var(--sklearn-color-fitted-level-2);\n",
              "}\n",
              "\n",
              "#sk-container-id-1 div.sk-label label.sk-toggleable__label,\n",
              "#sk-container-id-1 div.sk-label label {\n",
              "  /* The background is the default theme color */\n",
              "  color: var(--sklearn-color-text-on-default-background);\n",
              "}\n",
              "\n",
              "/* On hover, darken the color of the background */\n",
              "#sk-container-id-1 div.sk-label:hover label.sk-toggleable__label {\n",
              "  color: var(--sklearn-color-text);\n",
              "  background-color: var(--sklearn-color-unfitted-level-2);\n",
              "}\n",
              "\n",
              "/* Label box, darken color on hover, fitted */\n",
              "#sk-container-id-1 div.sk-label.fitted:hover label.sk-toggleable__label.fitted {\n",
              "  color: var(--sklearn-color-text);\n",
              "  background-color: var(--sklearn-color-fitted-level-2);\n",
              "}\n",
              "\n",
              "/* Estimator label */\n",
              "\n",
              "#sk-container-id-1 div.sk-label label {\n",
              "  font-family: monospace;\n",
              "  font-weight: bold;\n",
              "  display: inline-block;\n",
              "  line-height: 1.2em;\n",
              "}\n",
              "\n",
              "#sk-container-id-1 div.sk-label-container {\n",
              "  text-align: center;\n",
              "}\n",
              "\n",
              "/* Estimator-specific */\n",
              "#sk-container-id-1 div.sk-estimator {\n",
              "  font-family: monospace;\n",
              "  border: 1px dotted var(--sklearn-color-border-box);\n",
              "  border-radius: 0.25em;\n",
              "  box-sizing: border-box;\n",
              "  margin-bottom: 0.5em;\n",
              "  /* unfitted */\n",
              "  background-color: var(--sklearn-color-unfitted-level-0);\n",
              "}\n",
              "\n",
              "#sk-container-id-1 div.sk-estimator.fitted {\n",
              "  /* fitted */\n",
              "  background-color: var(--sklearn-color-fitted-level-0);\n",
              "}\n",
              "\n",
              "/* on hover */\n",
              "#sk-container-id-1 div.sk-estimator:hover {\n",
              "  /* unfitted */\n",
              "  background-color: var(--sklearn-color-unfitted-level-2);\n",
              "}\n",
              "\n",
              "#sk-container-id-1 div.sk-estimator.fitted:hover {\n",
              "  /* fitted */\n",
              "  background-color: var(--sklearn-color-fitted-level-2);\n",
              "}\n",
              "\n",
              "/* Specification for estimator info (e.g. \"i\" and \"?\") */\n",
              "\n",
              "/* Common style for \"i\" and \"?\" */\n",
              "\n",
              ".sk-estimator-doc-link,\n",
              "a:link.sk-estimator-doc-link,\n",
              "a:visited.sk-estimator-doc-link {\n",
              "  float: right;\n",
              "  font-size: smaller;\n",
              "  line-height: 1em;\n",
              "  font-family: monospace;\n",
              "  background-color: var(--sklearn-color-background);\n",
              "  border-radius: 1em;\n",
              "  height: 1em;\n",
              "  width: 1em;\n",
              "  text-decoration: none !important;\n",
              "  margin-left: 0.5em;\n",
              "  text-align: center;\n",
              "  /* unfitted */\n",
              "  border: var(--sklearn-color-unfitted-level-1) 1pt solid;\n",
              "  color: var(--sklearn-color-unfitted-level-1);\n",
              "}\n",
              "\n",
              ".sk-estimator-doc-link.fitted,\n",
              "a:link.sk-estimator-doc-link.fitted,\n",
              "a:visited.sk-estimator-doc-link.fitted {\n",
              "  /* fitted */\n",
              "  border: var(--sklearn-color-fitted-level-1) 1pt solid;\n",
              "  color: var(--sklearn-color-fitted-level-1);\n",
              "}\n",
              "\n",
              "/* On hover */\n",
              "div.sk-estimator:hover .sk-estimator-doc-link:hover,\n",
              ".sk-estimator-doc-link:hover,\n",
              "div.sk-label-container:hover .sk-estimator-doc-link:hover,\n",
              ".sk-estimator-doc-link:hover {\n",
              "  /* unfitted */\n",
              "  background-color: var(--sklearn-color-unfitted-level-3);\n",
              "  color: var(--sklearn-color-background);\n",
              "  text-decoration: none;\n",
              "}\n",
              "\n",
              "div.sk-estimator.fitted:hover .sk-estimator-doc-link.fitted:hover,\n",
              ".sk-estimator-doc-link.fitted:hover,\n",
              "div.sk-label-container:hover .sk-estimator-doc-link.fitted:hover,\n",
              ".sk-estimator-doc-link.fitted:hover {\n",
              "  /* fitted */\n",
              "  background-color: var(--sklearn-color-fitted-level-3);\n",
              "  color: var(--sklearn-color-background);\n",
              "  text-decoration: none;\n",
              "}\n",
              "\n",
              "/* Span, style for the box shown on hovering the info icon */\n",
              ".sk-estimator-doc-link span {\n",
              "  display: none;\n",
              "  z-index: 9999;\n",
              "  position: relative;\n",
              "  font-weight: normal;\n",
              "  right: .2ex;\n",
              "  padding: .5ex;\n",
              "  margin: .5ex;\n",
              "  width: min-content;\n",
              "  min-width: 20ex;\n",
              "  max-width: 50ex;\n",
              "  color: var(--sklearn-color-text);\n",
              "  box-shadow: 2pt 2pt 4pt #999;\n",
              "  /* unfitted */\n",
              "  background: var(--sklearn-color-unfitted-level-0);\n",
              "  border: .5pt solid var(--sklearn-color-unfitted-level-3);\n",
              "}\n",
              "\n",
              ".sk-estimator-doc-link.fitted span {\n",
              "  /* fitted */\n",
              "  background: var(--sklearn-color-fitted-level-0);\n",
              "  border: var(--sklearn-color-fitted-level-3);\n",
              "}\n",
              "\n",
              ".sk-estimator-doc-link:hover span {\n",
              "  display: block;\n",
              "}\n",
              "\n",
              "/* \"?\"-specific style due to the `<a>` HTML tag */\n",
              "\n",
              "#sk-container-id-1 a.estimator_doc_link {\n",
              "  float: right;\n",
              "  font-size: 1rem;\n",
              "  line-height: 1em;\n",
              "  font-family: monospace;\n",
              "  background-color: var(--sklearn-color-background);\n",
              "  border-radius: 1rem;\n",
              "  height: 1rem;\n",
              "  width: 1rem;\n",
              "  text-decoration: none;\n",
              "  /* unfitted */\n",
              "  color: var(--sklearn-color-unfitted-level-1);\n",
              "  border: var(--sklearn-color-unfitted-level-1) 1pt solid;\n",
              "}\n",
              "\n",
              "#sk-container-id-1 a.estimator_doc_link.fitted {\n",
              "  /* fitted */\n",
              "  border: var(--sklearn-color-fitted-level-1) 1pt solid;\n",
              "  color: var(--sklearn-color-fitted-level-1);\n",
              "}\n",
              "\n",
              "/* On hover */\n",
              "#sk-container-id-1 a.estimator_doc_link:hover {\n",
              "  /* unfitted */\n",
              "  background-color: var(--sklearn-color-unfitted-level-3);\n",
              "  color: var(--sklearn-color-background);\n",
              "  text-decoration: none;\n",
              "}\n",
              "\n",
              "#sk-container-id-1 a.estimator_doc_link.fitted:hover {\n",
              "  /* fitted */\n",
              "  background-color: var(--sklearn-color-fitted-level-3);\n",
              "}\n",
              "</style><div id=\"sk-container-id-1\" class=\"sk-top-container\"><div class=\"sk-text-repr-fallback\"><pre>LogisticRegression()</pre><b>In a Jupyter environment, please rerun this cell to show the HTML representation or trust the notebook. <br />On GitHub, the HTML representation is unable to render, please try loading this page with nbviewer.org.</b></div><div class=\"sk-container\" hidden><div class=\"sk-item\"><div class=\"sk-estimator fitted sk-toggleable\"><input class=\"sk-toggleable__control sk-hidden--visually\" id=\"sk-estimator-id-1\" type=\"checkbox\" checked><label for=\"sk-estimator-id-1\" class=\"sk-toggleable__label fitted sk-toggleable__label-arrow\"><div><div>LogisticRegression</div></div><div><a class=\"sk-estimator-doc-link fitted\" rel=\"noreferrer\" target=\"_blank\" href=\"https://scikit-learn.org/1.6/modules/generated/sklearn.linear_model.LogisticRegression.html\">?<span>Documentation for LogisticRegression</span></a><span class=\"sk-estimator-doc-link fitted\">i<span>Fitted</span></span></div></label><div class=\"sk-toggleable__content fitted\"><pre>LogisticRegression()</pre></div> </div></div></div></div>"
            ]
          },
          "metadata": {},
          "execution_count": 42
        }
      ]
    },
    {
      "cell_type": "markdown",
      "source": [
        "Evaluation"
      ],
      "metadata": {
        "id": "AUJ25sBnPv7r"
      }
    },
    {
      "cell_type": "markdown",
      "source": [
        "Accuracy Score"
      ],
      "metadata": {
        "id": "vIgVZSy6PzV_"
      }
    },
    {
      "cell_type": "code",
      "source": [
        "# accuracy score on the training data\n",
        "from sklearn.metrics import accuracy_score\n",
        "\n",
        "# Make predictions on training data\n",
        "X_train_prediction = model.predict(X_train)\n",
        "\n",
        "# Calculate accuracy\n",
        "training_data_accuracy = accuracy_score(Y_train, X_train_prediction)\n",
        "\n",
        "print(\"Accuracy on Training Data:\", training_data_accuracy)\n"
      ],
      "metadata": {
        "colab": {
          "base_uri": "https://localhost:8080/"
        },
        "id": "t1K9iTTvPQPY",
        "outputId": "4252390c-7607-4fe7-f1c3-bf58f5c1d1b0"
      },
      "execution_count": null,
      "outputs": [
        {
          "output_type": "stream",
          "name": "stdout",
          "text": [
            "Accuracy on Training Data: 0.9471191791633781\n"
          ]
        }
      ]
    },
    {
      "cell_type": "code",
      "source": [
        "from sklearn.metrics import accuracy_score\n",
        "\n",
        "# Make predictions on training data\n",
        "X_test_prediction = model.predict(X_test)\n",
        "\n",
        "# Calculate accuracy\n",
        "test_data_accuracy = accuracy_score(Y_test, X_test_prediction)\n",
        "\n",
        "print(\"Accuracy on Testing Data:\", test_data_accuracy)\n"
      ],
      "metadata": {
        "colab": {
          "base_uri": "https://localhost:8080/"
        },
        "id": "-L0AksMgRVto",
        "outputId": "bd5c10d6-4c78-4201-d25a-dba6d3298f0c"
      },
      "execution_count": null,
      "outputs": [
        {
          "output_type": "stream",
          "name": "stdout",
          "text": [
            "Accuracy on Testing Data: 0.9108129439621152\n"
          ]
        }
      ]
    },
    {
      "cell_type": "markdown",
      "source": [
        "Making a predictive system"
      ],
      "metadata": {
        "id": "Q9SvksOVR_8V"
      }
    },
    {
      "cell_type": "code",
      "source": [
        "X_new = X_test[3]\n",
        "\n",
        "prediction = model.predict(X_new)\n",
        "print(prediction)\n",
        "\n",
        "if (prediction[0]==0):\n",
        "  print('The news is Real')\n",
        "else:\n",
        "  print('The news is Fake')"
      ],
      "metadata": {
        "colab": {
          "base_uri": "https://localhost:8080/"
        },
        "id": "IiBPDLK7SDcC",
        "outputId": "f4313094-bc36-483c-9395-b62c690231b7"
      },
      "execution_count": null,
      "outputs": [
        {
          "output_type": "stream",
          "name": "stdout",
          "text": [
            "['FAKE']\n",
            "The news is Fake\n"
          ]
        }
      ]
    },
    {
      "cell_type": "code",
      "source": [
        "print(Y_test[0])"
      ],
      "metadata": {
        "colab": {
          "base_uri": "https://localhost:8080/"
        },
        "id": "sWqoYFGiSiCL",
        "outputId": "6138794d-2fa7-4152-c59d-63ae232bf30b"
      },
      "execution_count": null,
      "outputs": [
        {
          "output_type": "stream",
          "name": "stdout",
          "text": [
            "REAL\n"
          ]
        }
      ]
    }
  ]
}